{
 "cells": [
  {
   "cell_type": "code",
   "execution_count": 240,
   "id": "47bde88d",
   "metadata": {},
   "outputs": [],
   "source": [
    "import pandas as pd \n",
    "import seaborn as sns\n",
    "import matplotlib.pyplot as plt\n",
    "import plotly.express as px\n",
    "import numpy as np\n",
    "import warnings\n",
    "warnings.filterwarnings(\"ignore\")\n",
    "from sklearn.model_selection import train_test_split"
   ]
  },
  {
   "cell_type": "markdown",
   "id": "ff6f52c9",
   "metadata": {},
   "source": [
    "# Project\n",
    "## Social Media Engagement EDA Analysis "
   ]
  },
  {
   "cell_type": "code",
   "execution_count": 241,
   "id": "970a5e25",
   "metadata": {},
   "outputs": [],
   "source": [
    "df=pd.read_csv(r\"c:\\Users\\user\\Desktop\\Kaggle Datasets\\social_media_engagement1.csv\")"
   ]
  },
  {
   "cell_type": "markdown",
   "id": "3cf57d6b",
   "metadata": {},
   "source": [
    "# Data Info"
   ]
  },
  {
   "cell_type": "code",
   "execution_count": 242,
   "id": "34b2b53a",
   "metadata": {},
   "outputs": [
    {
     "data": {
      "text/plain": [
       "(100, 9)"
      ]
     },
     "execution_count": 242,
     "metadata": {},
     "output_type": "execute_result"
    }
   ],
   "source": [
    "df.shape"
   ]
  },
  {
   "cell_type": "code",
   "execution_count": 243,
   "id": "d9da2528",
   "metadata": {},
   "outputs": [
    {
     "name": "stdout",
     "output_type": "stream",
     "text": [
      "<class 'pandas.core.frame.DataFrame'>\n",
      "RangeIndex: 100 entries, 0 to 99\n",
      "Data columns (total 9 columns):\n",
      " #   Column           Non-Null Count  Dtype \n",
      "---  ------           --------------  ----- \n",
      " 0   post_id          100 non-null    int64 \n",
      " 1   platform         100 non-null    object\n",
      " 2   post_type        100 non-null    object\n",
      " 3   post_time        100 non-null    object\n",
      " 4   likes            100 non-null    int64 \n",
      " 5   comments         100 non-null    int64 \n",
      " 6   shares           100 non-null    int64 \n",
      " 7   post_day         100 non-null    object\n",
      " 8   sentiment_score  100 non-null    object\n",
      "dtypes: int64(4), object(5)\n",
      "memory usage: 7.2+ KB\n"
     ]
    }
   ],
   "source": [
    "df.info()"
   ]
  },
  {
   "cell_type": "code",
   "execution_count": 244,
   "id": "6fdd3ff9",
   "metadata": {},
   "outputs": [
    {
     "data": {
      "text/html": [
       "<div>\n",
       "<style scoped>\n",
       "    .dataframe tbody tr th:only-of-type {\n",
       "        vertical-align: middle;\n",
       "    }\n",
       "\n",
       "    .dataframe tbody tr th {\n",
       "        vertical-align: top;\n",
       "    }\n",
       "\n",
       "    .dataframe thead th {\n",
       "        text-align: right;\n",
       "    }\n",
       "</style>\n",
       "<table border=\"1\" class=\"dataframe\">\n",
       "  <thead>\n",
       "    <tr style=\"text-align: right;\">\n",
       "      <th></th>\n",
       "      <th>post_id</th>\n",
       "      <th>platform</th>\n",
       "      <th>post_type</th>\n",
       "      <th>post_time</th>\n",
       "      <th>likes</th>\n",
       "      <th>comments</th>\n",
       "      <th>shares</th>\n",
       "      <th>post_day</th>\n",
       "      <th>sentiment_score</th>\n",
       "    </tr>\n",
       "  </thead>\n",
       "  <tbody>\n",
       "    <tr>\n",
       "      <th>0</th>\n",
       "      <td>1</td>\n",
       "      <td>Facebook</td>\n",
       "      <td>image</td>\n",
       "      <td>8/17/2023 14:45</td>\n",
       "      <td>2121</td>\n",
       "      <td>474</td>\n",
       "      <td>628</td>\n",
       "      <td>Thursday</td>\n",
       "      <td>positive</td>\n",
       "    </tr>\n",
       "    <tr>\n",
       "      <th>1</th>\n",
       "      <td>2</td>\n",
       "      <td>Facebook</td>\n",
       "      <td>carousel</td>\n",
       "      <td>5/14/2023 0:45</td>\n",
       "      <td>3660</td>\n",
       "      <td>432</td>\n",
       "      <td>694</td>\n",
       "      <td>Sunday</td>\n",
       "      <td>neutral</td>\n",
       "    </tr>\n",
       "    <tr>\n",
       "      <th>2</th>\n",
       "      <td>3</td>\n",
       "      <td>Instagram</td>\n",
       "      <td>poll</td>\n",
       "      <td>2/21/2023 16:15</td>\n",
       "      <td>4955</td>\n",
       "      <td>408</td>\n",
       "      <td>688</td>\n",
       "      <td>Tuesday</td>\n",
       "      <td>negative</td>\n",
       "    </tr>\n",
       "    <tr>\n",
       "      <th>3</th>\n",
       "      <td>4</td>\n",
       "      <td>Twitter</td>\n",
       "      <td>image</td>\n",
       "      <td>11/16/2023 0:45</td>\n",
       "      <td>1183</td>\n",
       "      <td>90</td>\n",
       "      <td>187</td>\n",
       "      <td>Thursday</td>\n",
       "      <td>negative</td>\n",
       "    </tr>\n",
       "    <tr>\n",
       "      <th>4</th>\n",
       "      <td>5</td>\n",
       "      <td>Twitter</td>\n",
       "      <td>video</td>\n",
       "      <td>5/23/2023 0:30</td>\n",
       "      <td>3499</td>\n",
       "      <td>247</td>\n",
       "      <td>286</td>\n",
       "      <td>Tuesday</td>\n",
       "      <td>positive</td>\n",
       "    </tr>\n",
       "  </tbody>\n",
       "</table>\n",
       "</div>"
      ],
      "text/plain": [
       "   post_id   platform post_type        post_time  likes  comments  shares  \\\n",
       "0        1   Facebook     image  8/17/2023 14:45   2121       474     628   \n",
       "1        2   Facebook  carousel   5/14/2023 0:45   3660       432     694   \n",
       "2        3  Instagram      poll  2/21/2023 16:15   4955       408     688   \n",
       "3        4    Twitter     image  11/16/2023 0:45   1183        90     187   \n",
       "4        5    Twitter     video   5/23/2023 0:30   3499       247     286   \n",
       "\n",
       "   post_day sentiment_score  \n",
       "0  Thursday        positive  \n",
       "1    Sunday         neutral  \n",
       "2   Tuesday        negative  \n",
       "3  Thursday        negative  \n",
       "4   Tuesday        positive  "
      ]
     },
     "execution_count": 244,
     "metadata": {},
     "output_type": "execute_result"
    }
   ],
   "source": [
    "df.head()"
   ]
  },
  {
   "cell_type": "markdown",
   "id": "1152f462",
   "metadata": {},
   "source": [
    "# Data Handling & Cleaning"
   ]
  },
  {
   "cell_type": "code",
   "execution_count": 245,
   "id": "0b135535",
   "metadata": {},
   "outputs": [],
   "source": [
    "df[\"post_time\"]=pd.to_datetime(df[\"post_time\"])"
   ]
  },
  {
   "cell_type": "code",
   "execution_count": 246,
   "id": "6503e90f",
   "metadata": {},
   "outputs": [
    {
     "data": {
      "text/plain": [
       "np.int64(0)"
      ]
     },
     "execution_count": 246,
     "metadata": {},
     "output_type": "execute_result"
    }
   ],
   "source": [
    "df.isna().sum()\n",
    "df.duplicated().sum()"
   ]
  },
  {
   "cell_type": "code",
   "execution_count": 247,
   "id": "5085b64c",
   "metadata": {},
   "outputs": [],
   "source": [
    "df.drop(columns=[\"post_id\"],inplace=True)"
   ]
  },
  {
   "cell_type": "markdown",
   "id": "5e8022c2",
   "metadata": {},
   "source": [
    "# EDA & Visualization"
   ]
  },
  {
   "cell_type": "markdown",
   "id": "9b6abb67",
   "metadata": {},
   "source": [
    "## Post type and likes classification by platform "
   ]
  },
  {
   "cell_type": "code",
   "execution_count": 248,
   "id": "1c4dd31c",
   "metadata": {},
   "outputs": [
    {
     "data": {
      "text/plain": [
       "Text(0.5, 1.0, 'Post type and likes classification by platform')"
      ]
     },
     "execution_count": 248,
     "metadata": {},
     "output_type": "execute_result"
    },
    {
     "data": {
      "image/png": "[encoded data removed]",
      "text/plain": [
       "<Figure size 1200x600 with 1 Axes>"
      ]
     },
     "metadata": {},
     "output_type": "display_data"
    }
   ],
   "source": [
    "classifi_pl=df.groupby([\"platform\",\"post_type\"])[\"likes\"].sum().sort_values(ascending=False).reset_index()\n",
    "plt.figure(figsize=(12,6))\n",
    "sns.set_style('whitegrid')\n",
    "sns.barplot(data=classifi_pl,x=\"post_type\",y=\"likes\",hue=\"platform\",palette=\"Accent\",edgecolor=\"black\",ci=None)\n",
    "plt.title(\"Post type and likes classification by platform\",size=13)"
   ]
  },
  {
   "cell_type": "markdown",
   "id": "70b03c8d",
   "metadata": {},
   "source": [
    "# Time series analysis  "
   ]
  },
  {
   "cell_type": "code",
   "execution_count": 249,
   "id": "8d18cde7",
   "metadata": {},
   "outputs": [
    {
     "data": {
      "text/html": [
       "<div>\n",
       "<style scoped>\n",
       "    .dataframe tbody tr th:only-of-type {\n",
       "        vertical-align: middle;\n",
       "    }\n",
       "\n",
       "    .dataframe tbody tr th {\n",
       "        vertical-align: top;\n",
       "    }\n",
       "\n",
       "    .dataframe thead th {\n",
       "        text-align: right;\n",
       "    }\n",
       "</style>\n",
       "<table border=\"1\" class=\"dataframe\">\n",
       "  <thead>\n",
       "    <tr style=\"text-align: right;\">\n",
       "      <th></th>\n",
       "      <th>platform</th>\n",
       "      <th>post_type</th>\n",
       "      <th>post_time</th>\n",
       "      <th>likes</th>\n",
       "      <th>comments</th>\n",
       "      <th>shares</th>\n",
       "      <th>post_day</th>\n",
       "      <th>sentiment_score</th>\n",
       "      <th>total_engagement</th>\n",
       "      <th>post_date</th>\n",
       "    </tr>\n",
       "  </thead>\n",
       "  <tbody>\n",
       "    <tr>\n",
       "      <th>0</th>\n",
       "      <td>Facebook</td>\n",
       "      <td>image</td>\n",
       "      <td>14:45:00</td>\n",
       "      <td>2121</td>\n",
       "      <td>474</td>\n",
       "      <td>628</td>\n",
       "      <td>Thursday</td>\n",
       "      <td>positive</td>\n",
       "      <td>3223</td>\n",
       "      <td>2023-08-17</td>\n",
       "    </tr>\n",
       "    <tr>\n",
       "      <th>1</th>\n",
       "      <td>Facebook</td>\n",
       "      <td>carousel</td>\n",
       "      <td>00:45:00</td>\n",
       "      <td>3660</td>\n",
       "      <td>432</td>\n",
       "      <td>694</td>\n",
       "      <td>Sunday</td>\n",
       "      <td>neutral</td>\n",
       "      <td>4786</td>\n",
       "      <td>2023-05-14</td>\n",
       "    </tr>\n",
       "    <tr>\n",
       "      <th>2</th>\n",
       "      <td>Instagram</td>\n",
       "      <td>poll</td>\n",
       "      <td>16:15:00</td>\n",
       "      <td>4955</td>\n",
       "      <td>408</td>\n",
       "      <td>688</td>\n",
       "      <td>Tuesday</td>\n",
       "      <td>negative</td>\n",
       "      <td>6051</td>\n",
       "      <td>2023-02-21</td>\n",
       "    </tr>\n",
       "    <tr>\n",
       "      <th>3</th>\n",
       "      <td>Twitter</td>\n",
       "      <td>image</td>\n",
       "      <td>00:45:00</td>\n",
       "      <td>1183</td>\n",
       "      <td>90</td>\n",
       "      <td>187</td>\n",
       "      <td>Thursday</td>\n",
       "      <td>negative</td>\n",
       "      <td>1460</td>\n",
       "      <td>2023-11-16</td>\n",
       "    </tr>\n",
       "    <tr>\n",
       "      <th>4</th>\n",
       "      <td>Twitter</td>\n",
       "      <td>video</td>\n",
       "      <td>00:30:00</td>\n",
       "      <td>3499</td>\n",
       "      <td>247</td>\n",
       "      <td>286</td>\n",
       "      <td>Tuesday</td>\n",
       "      <td>positive</td>\n",
       "      <td>4032</td>\n",
       "      <td>2023-05-23</td>\n",
       "    </tr>\n",
       "  </tbody>\n",
       "</table>\n",
       "</div>"
      ],
      "text/plain": [
       "    platform post_type post_time  likes  comments  shares  post_day  \\\n",
       "0   Facebook     image  14:45:00   2121       474     628  Thursday   \n",
       "1   Facebook  carousel  00:45:00   3660       432     694    Sunday   \n",
       "2  Instagram      poll  16:15:00   4955       408     688   Tuesday   \n",
       "3    Twitter     image  00:45:00   1183        90     187  Thursday   \n",
       "4    Twitter     video  00:30:00   3499       247     286   Tuesday   \n",
       "\n",
       "  sentiment_score  total_engagement   post_date  \n",
       "0        positive              3223  2023-08-17  \n",
       "1         neutral              4786  2023-05-14  \n",
       "2        negative              6051  2023-02-21  \n",
       "3        negative              1460  2023-11-16  \n",
       "4        positive              4032  2023-05-23  "
      ]
     },
     "execution_count": 249,
     "metadata": {},
     "output_type": "execute_result"
    }
   ],
   "source": [
    "# Adding extra column to understand better engagement ( including=total likes,comments and shares)\n",
    "df[\"total_engagement\"]=df[\"likes\"]+df[\"comments\"]+df[\"shares\"]\n",
    "df.head()\n",
    "df[\"post_date\"]=df[\"post_time\"].dt.date\n",
    "df[\"post_time\"]=df[\"post_time\"].dt.time\n",
    "df.head()"
   ]
  },
  {
   "cell_type": "code",
   "execution_count": 250,
   "id": "9559279e",
   "metadata": {},
   "outputs": [
    {
     "data": {
      "application/vnd.plotly.v1+json": {
       "config": {
        "plotlyServerURL": "https://plot.ly"
       },
       "data": [
        {
         "hovertemplate": "post_date=%{x}<br>total_engagement=%{y}<extra></extra>",
         "legendgroup": "",
         "line": {
          "color": "#636efa",
          "dash": "solid"
         },
         "marker": {
          "symbol": "circle"
         },
         "mode": "lines",
         "name": "",
         "orientation": "v",
         "showlegend": false,
         "type": "scatter",
         "x": [
          "2023-01-01",
          "2023-01-03",
          "2023-01-04",
          "2023-01-07",
          "2023-01-09",
          "2023-01-19",
          "2023-01-21",
          "2023-01-27",
          "2023-01-30",
          "2023-02-02",
          "2023-02-03",
          "2023-02-09",
          "2023-02-10",
          "2023-02-14",
          "2023-02-21",
          "2023-02-23",
          "2023-02-26",
          "2023-03-01",
          "2023-03-07",
          "2023-03-13",
          "2023-03-19",
          "2023-03-22",
          "2023-03-31",
          "2023-04-08",
          "2023-04-10",
          "2023-04-14",
          "2023-04-17",
          "2023-04-19",
          "2023-04-23",
          "2023-05-02",
          "2023-05-03",
          "2023-05-05",
          "2023-05-07",
          "2023-05-11",
          "2023-05-14",
          "2023-05-15",
          "2023-05-16",
          "2023-05-17",
          "2023-05-19",
          "2023-05-23",
          "2023-06-06",
          "2023-06-12",
          "2023-06-15",
          "2023-06-25",
          "2023-07-01",
          "2023-07-05",
          "2023-07-06",
          "2023-07-12",
          "2023-07-13",
          "2023-07-14",
          "2023-07-18",
          "2023-07-23",
          "2023-07-26",
          "2023-07-27",
          "2023-08-04",
          "2023-08-05",
          "2023-08-08",
          "2023-08-17",
          "2023-09-10",
          "2023-09-15",
          "2023-09-20",
          "2023-09-27",
          "2023-09-30",
          "2023-10-02",
          "2023-10-03",
          "2023-10-05",
          "2023-10-06",
          "2023-10-14",
          "2023-10-27",
          "2023-10-28",
          "2023-11-11",
          "2023-11-12",
          "2023-11-16",
          "2023-11-19",
          "2023-11-20",
          "2023-11-23",
          "2023-11-25",
          "2023-11-27",
          "2023-12-01",
          "2023-12-06",
          "2023-12-08",
          "2023-12-13",
          "2023-12-24",
          "2023-12-27",
          "2023-12-28",
          "2023-12-29",
          "2023-12-31"
         ],
         "xaxis": "x",
         "y": {
          "bdata": "cS4+ChAMmAW5BTkNahXSEowJbAKtFYsJ2Ak4BqMXcQlmC5sLPg7tDtsNgBTQCqcVwRA2GKgEGgUVChgS3xu4DEUIEBuyEgUC8gvkBaMX2xE7HDEQswGhBLoT2xxEGjUMZhVuBdYOzQMQFywJWQa+AYMWlwxOGNQSDhL6AUAGdwdbBxEKhA0wAnAD/wXyAWgGtAVfFg4JFxfgCY8ItglNFwYGFBZ9AgARuwZIFngR",
          "dtype": "i2"
         },
         "yaxis": "y"
        }
       ],
       "layout": {
        "legend": {
         "tracegroupgap": 0
        },
        "template": {
         "data": {
          "bar": [
           {
            "error_x": {
             "color": "#2a3f5f"
            },
            "error_y": {
             "color": "#2a3f5f"
            },
            "marker": {
             "line": {
              "color": "#E5ECF6",
              "width": 0.5
             },
             "pattern": {
              "fillmode": "overlay",
              "size": 10,
              "solidity": 0.2
             }
            },
            "type": "bar"
           }
          ],
          "barpolar": [
           {
            "marker": {
             "line": {
              "color": "#E5ECF6",
              "width": 0.5
             },
             "pattern": {
              "fillmode": "overlay",
              "size": 10,
              "solidity": 0.2
             }
            },
            "type": "barpolar"
           }
          ],
          "carpet": [
           {
            "aaxis": {
             "endlinecolor": "#2a3f5f",
             "gridcolor": "white",
             "linecolor": "white",
             "minorgridcolor": "white",
             "startlinecolor": "#2a3f5f"
            },
            "baxis": {
             "endlinecolor": "#2a3f5f",
             "gridcolor": "white",
             "linecolor": "white",
             "minorgridcolor": "white",
             "startlinecolor": "#2a3f5f"
            },
            "type": "carpet"
           }
          ],
          "choropleth": [
           {
            "colorbar": {
             "outlinewidth": 0,
             "ticks": ""
            },
            "type": "choropleth"
           }
          ],
          "contour": [
           {
            "colorbar": {
             "outlinewidth": 0,
             "ticks": ""
            },
            "colorscale": [
             [
              0,
              "#0d0887"
             ],
             [
              0.1111111111111111,
              "#46039f"
             ],
             [
              0.2222222222222222,
              "#7201a8"
             ],
             [
              0.3333333333333333,
              "#9c179e"
             ],
             [
              0.4444444444444444,
              "#bd3786"
             ],
             [
              0.5555555555555556,
              "#d8576b"
             ],
             [
              0.6666666666666666,
              "#ed7953"
             ],
             [
              0.7777777777777778,
              "#fb9f3a"
             ],
             [
              0.8888888888888888,
              "#fdca26"
             ],
             [
              1,
              "#f0f921"
             ]
            ],
            "type": "contour"
           }
          ],
          "contourcarpet": [
           {
            "colorbar": {
             "outlinewidth": 0,
             "ticks": ""
            },
            "type": "contourcarpet"
           }
          ],
          "heatmap": [
           {
            "colorbar": {
             "outlinewidth": 0,
             "ticks": ""
            },
            "colorscale": [
             [
              0,
              "#0d0887"
             ],
             [
              0.1111111111111111,
              "#46039f"
             ],
             [
              0.2222222222222222,
              "#7201a8"
             ],
             [
              0.3333333333333333,
              "#9c179e"
             ],
             [
              0.4444444444444444,
              "#bd3786"
             ],
             [
              0.5555555555555556,
              "#d8576b"
             ],
             [
              0.6666666666666666,
              "#ed7953"
             ],
             [
              0.7777777777777778,
              "#fb9f3a"
             ],
             [
              0.8888888888888888,
              "#fdca26"
             ],
             [
              1,
              "#f0f921"
             ]
            ],
            "type": "heatmap"
           }
          ],
          "histogram": [
           {
            "marker": {
             "pattern": {
              "fillmode": "overlay",
              "size": 10,
              "solidity": 0.2
             }
            },
            "type": "histogram"
           }
          ],
          "histogram2d": [
           {
            "colorbar": {
             "outlinewidth": 0,
             "ticks": ""
            },
            "colorscale": [
             [
              0,
              "#0d0887"
             ],
             [
              0.1111111111111111,
              "#46039f"
             ],
             [
              0.2222222222222222,
              "#7201a8"
             ],
             [
              0.3333333333333333,
              "#9c179e"
             ],
             [
              0.4444444444444444,
              "#bd3786"
             ],
             [
              0.5555555555555556,
              "#d8576b"
             ],
             [
              0.6666666666666666,
              "#ed7953"
             ],
             [
              0.7777777777777778,
              "#fb9f3a"
             ],
             [
              0.8888888888888888,
              "#fdca26"
             ],
             [
              1,
              "#f0f921"
             ]
            ],
            "type": "histogram2d"
           }
          ],
          "histogram2dcontour": [
           {
            "colorbar": {
             "outlinewidth": 0,
             "ticks": ""
            },
            "colorscale": [
             [
              0,
              "#0d0887"
             ],
             [
              0.1111111111111111,
              "#46039f"
             ],
             [
              0.2222222222222222,
              "#7201a8"
             ],
             [
              0.3333333333333333,
              "#9c179e"
             ],
             [
              0.4444444444444444,
              "#bd3786"
             ],
             [
              0.5555555555555556,
              "#d8576b"
             ],
             [
              0.6666666666666666,
              "#ed7953"
             ],
             [
              0.7777777777777778,
              "#fb9f3a"
             ],
             [
              0.8888888888888888,
              "#fdca26"
             ],
             [
              1,
              "#f0f921"
             ]
            ],
            "type": "histogram2dcontour"
           }
          ],
          "mesh3d": [
           {
            "colorbar": {
             "outlinewidth": 0,
             "ticks": ""
            },
            "type": "mesh3d"
           }
          ],
          "parcoords": [
           {
            "line": {
             "colorbar": {
              "outlinewidth": 0,
              "ticks": ""
             }
            },
            "type": "parcoords"
           }
          ],
          "pie": [
           {
            "automargin": true,
            "type": "pie"
           }
          ],
          "scatter": [
           {
            "fillpattern": {
             "fillmode": "overlay",
             "size": 10,
             "solidity": 0.2
            },
            "type": "scatter"
           }
          ],
          "scatter3d": [
           {
            "line": {
             "colorbar": {
              "outlinewidth": 0,
              "ticks": ""
             }
            },
            "marker": {
             "colorbar": {
              "outlinewidth": 0,
              "ticks": ""
             }
            },
            "type": "scatter3d"
           }
          ],
          "scattercarpet": [
           {
            "marker": {
             "colorbar": {
              "outlinewidth": 0,
              "ticks": ""
             }
            },
            "type": "scattercarpet"
           }
          ],
          "scattergeo": [
           {
            "marker": {
             "colorbar": {
              "outlinewidth": 0,
              "ticks": ""
             }
            },
            "type": "scattergeo"
           }
          ],
          "scattergl": [
           {
            "marker": {
             "colorbar": {
              "outlinewidth": 0,
              "ticks": ""
             }
            },
            "type": "scattergl"
           }
          ],
          "scattermap": [
           {
            "marker": {
             "colorbar": {
              "outlinewidth": 0,
              "ticks": ""
             }
            },
            "type": "scattermap"
           }
          ],
          "scattermapbox": [
           {
            "marker": {
             "colorbar": {
              "outlinewidth": 0,
              "ticks": ""
             }
            },
            "type": "scattermapbox"
           }
          ],
          "scatterpolar": [
           {
            "marker": {
             "colorbar": {
              "outlinewidth": 0,
              "ticks": ""
             }
            },
            "type": "scatterpolar"
           }
          ],
          "scatterpolargl": [
           {
            "marker": {
             "colorbar": {
              "outlinewidth": 0,
              "ticks": ""
             }
            },
            "type": "scatterpolargl"
           }
          ],
          "scatterternary": [
           {
            "marker": {
             "colorbar": {
              "outlinewidth": 0,
              "ticks": ""
             }
            },
            "type": "scatterternary"
           }
          ],
          "surface": [
           {
            "colorbar": {
             "outlinewidth": 0,
             "ticks": ""
            },
            "colorscale": [
             [
              0,
              "#0d0887"
             ],
             [
              0.1111111111111111,
              "#46039f"
             ],
             [
              0.2222222222222222,
              "#7201a8"
             ],
             [
              0.3333333333333333,
              "#9c179e"
             ],
             [
              0.4444444444444444,
              "#bd3786"
             ],
             [
              0.5555555555555556,
              "#d8576b"
             ],
             [
              0.6666666666666666,
              "#ed7953"
             ],
             [
              0.7777777777777778,
              "#fb9f3a"
             ],
             [
              0.8888888888888888,
              "#fdca26"
             ],
             [
              1,
              "#f0f921"
             ]
            ],
            "type": "surface"
           }
          ],
          "table": [
           {
            "cells": {
             "fill": {
              "color": "#EBF0F8"
             },
             "line": {
              "color": "white"
             }
            },
            "header": {
             "fill": {
              "color": "#C8D4E3"
             },
             "line": {
              "color": "white"
             }
            },
            "type": "table"
           }
          ]
         },
         "layout": {
          "annotationdefaults": {
           "arrowcolor": "#2a3f5f",
           "arrowhead": 0,
           "arrowwidth": 1
          },
          "autotypenumbers": "strict",
          "coloraxis": {
           "colorbar": {
            "outlinewidth": 0,
            "ticks": ""
           }
          },
          "colorscale": {
           "diverging": [
            [
             0,
             "#8e0152"
            ],
            [
             0.1,
             "#c51b7d"
            ],
            [
             0.2,
             "#de77ae"
            ],
            [
             0.3,
             "#f1b6da"
            ],
            [
             0.4,
             "#fde0ef"
            ],
            [
             0.5,
             "#f7f7f7"
            ],
            [
             0.6,
             "#e6f5d0"
            ],
            [
             0.7,
             "#b8e186"
            ],
            [
             0.8,
             "#7fbc41"
            ],
            [
             0.9,
             "#4d9221"
            ],
            [
             1,
             "#276419"
            ]
           ],
           "sequential": [
            [
             0,
             "#0d0887"
            ],
            [
             0.1111111111111111,
             "#46039f"
            ],
            [
             0.2222222222222222,
             "#7201a8"
            ],
            [
             0.3333333333333333,
             "#9c179e"
            ],
            [
             0.4444444444444444,
             "#bd3786"
            ],
            [
             0.5555555555555556,
             "#d8576b"
            ],
            [
             0.6666666666666666,
             "#ed7953"
            ],
            [
             0.7777777777777778,
             "#fb9f3a"
            ],
            [
             0.8888888888888888,
             "#fdca26"
            ],
            [
             1,
             "#f0f921"
            ]
           ],
           "sequentialminus": [
            [
             0,
             "#0d0887"
            ],
            [
             0.1111111111111111,
             "#46039f"
            ],
            [
             0.2222222222222222,
             "#7201a8"
            ],
            [
             0.3333333333333333,
             "#9c179e"
            ],
            [
             0.4444444444444444,
             "#bd3786"
            ],
            [
             0.5555555555555556,
             "#d8576b"
            ],
            [
             0.6666666666666666,
             "#ed7953"
            ],
            [
             0.7777777777777778,
             "#fb9f3a"
            ],
            [
             0.8888888888888888,
             "#fdca26"
            ],
            [
             1,
             "#f0f921"
            ]
           ]
          },
          "colorway": [
           "#636efa",
           "#EF553B",
           "#00cc96",
           "#ab63fa",
           "#FFA15A",
           "#19d3f3",
           "#FF6692",
           "#B6E880",
           "#FF97FF",
           "#FECB52"
          ],
          "font": {
           "color": "#2a3f5f"
          },
          "geo": {
           "bgcolor": "white",
           "lakecolor": "white",
           "landcolor": "#E5ECF6",
           "showlakes": true,
           "showland": true,
           "subunitcolor": "white"
          },
          "hoverlabel": {
           "align": "left"
          },
          "hovermode": "closest",
          "mapbox": {
           "style": "light"
          },
          "paper_bgcolor": "white",
          "plot_bgcolor": "#E5ECF6",
          "polar": {
           "angularaxis": {
            "gridcolor": "white",
            "linecolor": "white",
            "ticks": ""
           },
           "bgcolor": "#E5ECF6",
           "radialaxis": {
            "gridcolor": "white",
            "linecolor": "white",
            "ticks": ""
           }
          },
          "scene": {
           "xaxis": {
            "backgroundcolor": "#E5ECF6",
            "gridcolor": "white",
            "gridwidth": 2,
            "linecolor": "white",
            "showbackground": true,
            "ticks": "",
            "zerolinecolor": "white"
           },
           "yaxis": {
            "backgroundcolor": "#E5ECF6",
            "gridcolor": "white",
            "gridwidth": 2,
            "linecolor": "white",
            "showbackground": true,
            "ticks": "",
            "zerolinecolor": "white"
           },
           "zaxis": {
            "backgroundcolor": "#E5ECF6",
            "gridcolor": "white",
            "gridwidth": 2,
            "linecolor": "white",
            "showbackground": true,
            "ticks": "",
            "zerolinecolor": "white"
           }
          },
          "shapedefaults": {
           "line": {
            "color": "#2a3f5f"
           }
          },
          "ternary": {
           "aaxis": {
            "gridcolor": "white",
            "linecolor": "white",
            "ticks": ""
           },
           "baxis": {
            "gridcolor": "white",
            "linecolor": "white",
            "ticks": ""
           },
           "bgcolor": "#E5ECF6",
           "caxis": {
            "gridcolor": "white",
            "linecolor": "white",
            "ticks": ""
           }
          },
          "title": {
           "x": 0.05
          },
          "xaxis": {
           "automargin": true,
           "gridcolor": "white",
           "linecolor": "white",
           "ticks": "",
           "title": {
            "standoff": 15
           },
           "zerolinecolor": "white",
           "zerolinewidth": 2
          },
          "yaxis": {
           "automargin": true,
           "gridcolor": "white",
           "linecolor": "white",
           "ticks": "",
           "title": {
            "standoff": 15
           },
           "zerolinecolor": "white",
           "zerolinewidth": 2
          }
         }
        },
        "title": {
         "text": "Total Social Media Engagement By Date"
        },
        "xaxis": {
         "anchor": "y",
         "domain": [
          0,
          1
         ],
         "title": {
          "text": "post_date"
         }
        },
        "yaxis": {
         "anchor": "x",
         "domain": [
          0,
          1
         ],
         "title": {
          "text": "total_engagement"
         }
        }
       }
      }
     },
     "metadata": {},
     "output_type": "display_data"
    }
   ],
   "source": [
    "classifi_da=df.groupby(\"post_date\")[\"total_engagement\"].sum().reset_index()\n",
    "classifi_da\n",
    "fig=px.line(classifi_da,x=\"post_date\",y=\"total_engagement\",title=\"Total Social Media Engagement By Date\")\n",
    "fig.show()"
   ]
  },
  {
   "cell_type": "code",
   "execution_count": 257,
   "id": "d1d350ec",
   "metadata": {},
   "outputs": [
    {
     "data": {
      "application/vnd.plotly.v1+json": {
       "config": {
        "plotlyServerURL": "https://plot.ly"
       },
       "data": [
        {
         "hovertemplate": "post_time=%{x}<br>total_engagement=%{y}<extra></extra>",
         "legendgroup": "",
         "line": {
          "color": "#636efa",
          "dash": "solid"
         },
         "marker": {
          "symbol": "circle"
         },
         "mode": "lines",
         "name": "",
         "orientation": "v",
         "showlegend": false,
         "type": "scatter",
         "x": [
          "00:00:00",
          "00:15:00",
          "00:30:00",
          "00:45:00",
          "01:00:00",
          "02:00:00",
          "02:15:00",
          "03:00:00",
          "03:15:00",
          "04:00:00",
          "04:30:00",
          "04:45:00",
          "05:15:00",
          "05:45:00",
          "06:00:00",
          "06:15:00",
          "06:30:00",
          "07:00:00",
          "07:15:00",
          "07:30:00",
          "07:45:00",
          "08:00:00",
          "08:15:00",
          "08:45:00",
          "09:15:00",
          "09:30:00",
          "10:00:00",
          "10:30:00",
          "11:00:00",
          "11:30:00",
          "11:45:00",
          "12:15:00",
          "12:30:00",
          "12:45:00",
          "13:00:00",
          "13:30:00",
          "13:45:00",
          "14:45:00",
          "15:00:00",
          "15:15:00",
          "15:30:00",
          "15:45:00",
          "16:00:00",
          "16:15:00",
          "16:45:00",
          "17:15:00",
          "17:30:00",
          "17:45:00",
          "18:00:00",
          "18:15:00",
          "18:30:00",
          "18:45:00",
          "19:00:00",
          "19:15:00",
          "19:30:00",
          "19:45:00",
          "20:00:00",
          "20:15:00",
          "21:00:00",
          "22:00:00",
          "22:15:00",
          "22:30:00",
          "23:15:00",
          "23:30:00",
          "23:45:00"
         ],
         "xaxis": "x",
         "y": {
          "bdata": "HRjkBexKOitqFSUgBgY+CjMWEDEyIBQWIg7NAxgrAQYWDKYMOQ3gCX0ClSYVCr4BZhUxEDoXDiTtCRgFZgtdGeIkWQbYCYwJThhRIBYKoQSLCcQUPA2jF+YQcQloBlwbOAa5DhAMMAJVCREtOQ8aBa0dEBcBE9YO8guTE+0OYgRwAw==",
          "dtype": "i2"
         },
         "yaxis": "y"
        }
       ],
       "layout": {
        "legend": {
         "tracegroupgap": 0
        },
        "template": {
         "data": {
          "bar": [
           {
            "error_x": {
             "color": "#2a3f5f"
            },
            "error_y": {
             "color": "#2a3f5f"
            },
            "marker": {
             "line": {
              "color": "#E5ECF6",
              "width": 0.5
             },
             "pattern": {
              "fillmode": "overlay",
              "size": 10,
              "solidity": 0.2
             }
            },
            "type": "bar"
           }
          ],
          "barpolar": [
           {
            "marker": {
             "line": {
              "color": "#E5ECF6",
              "width": 0.5
             },
             "pattern": {
              "fillmode": "overlay",
              "size": 10,
              "solidity": 0.2
             }
            },
            "type": "barpolar"
           }
          ],
          "carpet": [
           {
            "aaxis": {
             "endlinecolor": "#2a3f5f",
             "gridcolor": "white",
             "linecolor": "white",
             "minorgridcolor": "white",
             "startlinecolor": "#2a3f5f"
            },
            "baxis": {
             "endlinecolor": "#2a3f5f",
             "gridcolor": "white",
             "linecolor": "white",
             "minorgridcolor": "white",
             "startlinecolor": "#2a3f5f"
            },
            "type": "carpet"
           }
          ],
          "choropleth": [
           {
            "colorbar": {
             "outlinewidth": 0,
             "ticks": ""
            },
            "type": "choropleth"
           }
          ],
          "contour": [
           {
            "colorbar": {
             "outlinewidth": 0,
             "ticks": ""
            },
            "colorscale": [
             [
              0,
              "#0d0887"
             ],
             [
              0.1111111111111111,
              "#46039f"
             ],
             [
              0.2222222222222222,
              "#7201a8"
             ],
             [
              0.3333333333333333,
              "#9c179e"
             ],
             [
              0.4444444444444444,
              "#bd3786"
             ],
             [
              0.5555555555555556,
              "#d8576b"
             ],
             [
              0.6666666666666666,
              "#ed7953"
             ],
             [
              0.7777777777777778,
              "#fb9f3a"
             ],
             [
              0.8888888888888888,
              "#fdca26"
             ],
             [
              1,
              "#f0f921"
             ]
            ],
            "type": "contour"
           }
          ],
          "contourcarpet": [
           {
            "colorbar": {
             "outlinewidth": 0,
             "ticks": ""
            },
            "type": "contourcarpet"
           }
          ],
          "heatmap": [
           {
            "colorbar": {
             "outlinewidth": 0,
             "ticks": ""
            },
            "colorscale": [
             [
              0,
              "#0d0887"
             ],
             [
              0.1111111111111111,
              "#46039f"
             ],
             [
              0.2222222222222222,
              "#7201a8"
             ],
             [
              0.3333333333333333,
              "#9c179e"
             ],
             [
              0.4444444444444444,
              "#bd3786"
             ],
             [
              0.5555555555555556,
              "#d8576b"
             ],
             [
              0.6666666666666666,
              "#ed7953"
             ],
             [
              0.7777777777777778,
              "#fb9f3a"
             ],
             [
              0.8888888888888888,
              "#fdca26"
             ],
             [
              1,
              "#f0f921"
             ]
            ],
            "type": "heatmap"
           }
          ],
          "histogram": [
           {
            "marker": {
             "pattern": {
              "fillmode": "overlay",
              "size": 10,
              "solidity": 0.2
             }
            },
            "type": "histogram"
           }
          ],
          "histogram2d": [
           {
            "colorbar": {
             "outlinewidth": 0,
             "ticks": ""
            },
            "colorscale": [
             [
              0,
              "#0d0887"
             ],
             [
              0.1111111111111111,
              "#46039f"
             ],
             [
              0.2222222222222222,
              "#7201a8"
             ],
             [
              0.3333333333333333,
              "#9c179e"
             ],
             [
              0.4444444444444444,
              "#bd3786"
             ],
             [
              0.5555555555555556,
              "#d8576b"
             ],
             [
              0.6666666666666666,
              "#ed7953"
             ],
             [
              0.7777777777777778,
              "#fb9f3a"
             ],
             [
              0.8888888888888888,
              "#fdca26"
             ],
             [
              1,
              "#f0f921"
             ]
            ],
            "type": "histogram2d"
           }
          ],
          "histogram2dcontour": [
           {
            "colorbar": {
             "outlinewidth": 0,
             "ticks": ""
            },
            "colorscale": [
             [
              0,
              "#0d0887"
             ],
             [
              0.1111111111111111,
              "#46039f"
             ],
             [
              0.2222222222222222,
              "#7201a8"
             ],
             [
              0.3333333333333333,
              "#9c179e"
             ],
             [
              0.4444444444444444,
              "#bd3786"
             ],
             [
              0.5555555555555556,
              "#d8576b"
             ],
             [
              0.6666666666666666,
              "#ed7953"
             ],
             [
              0.7777777777777778,
              "#fb9f3a"
             ],
             [
              0.8888888888888888,
              "#fdca26"
             ],
             [
              1,
              "#f0f921"
             ]
            ],
            "type": "histogram2dcontour"
           }
          ],
          "mesh3d": [
           {
            "colorbar": {
             "outlinewidth": 0,
             "ticks": ""
            },
            "type": "mesh3d"
           }
          ],
          "parcoords": [
           {
            "line": {
             "colorbar": {
              "outlinewidth": 0,
              "ticks": ""
             }
            },
            "type": "parcoords"
           }
          ],
          "pie": [
           {
            "automargin": true,
            "type": "pie"
           }
          ],
          "scatter": [
           {
            "fillpattern": {
             "fillmode": "overlay",
             "size": 10,
             "solidity": 0.2
            },
            "type": "scatter"
           }
          ],
          "scatter3d": [
           {
            "line": {
             "colorbar": {
              "outlinewidth": 0,
              "ticks": ""
             }
            },
            "marker": {
             "colorbar": {
              "outlinewidth": 0,
              "ticks": ""
             }
            },
            "type": "scatter3d"
           }
          ],
          "scattercarpet": [
           {
            "marker": {
             "colorbar": {
              "outlinewidth": 0,
              "ticks": ""
             }
            },
            "type": "scattercarpet"
           }
          ],
          "scattergeo": [
           {
            "marker": {
             "colorbar": {
              "outlinewidth": 0,
              "ticks": ""
             }
            },
            "type": "scattergeo"
           }
          ],
          "scattergl": [
           {
            "marker": {
             "colorbar": {
              "outlinewidth": 0,
              "ticks": ""
             }
            },
            "type": "scattergl"
           }
          ],
          "scattermap": [
           {
            "marker": {
             "colorbar": {
              "outlinewidth": 0,
              "ticks": ""
             }
            },
            "type": "scattermap"
           }
          ],
          "scattermapbox": [
           {
            "marker": {
             "colorbar": {
              "outlinewidth": 0,
              "ticks": ""
             }
            },
            "type": "scattermapbox"
           }
          ],
          "scatterpolar": [
           {
            "marker": {
             "colorbar": {
              "outlinewidth": 0,
              "ticks": ""
             }
            },
            "type": "scatterpolar"
           }
          ],
          "scatterpolargl": [
           {
            "marker": {
             "colorbar": {
              "outlinewidth": 0,
              "ticks": ""
             }
            },
            "type": "scatterpolargl"
           }
          ],
          "scatterternary": [
           {
            "marker": {
             "colorbar": {
              "outlinewidth": 0,
              "ticks": ""
             }
            },
            "type": "scatterternary"
           }
          ],
          "surface": [
           {
            "colorbar": {
             "outlinewidth": 0,
             "ticks": ""
            },
            "colorscale": [
             [
              0,
              "#0d0887"
             ],
             [
              0.1111111111111111,
              "#46039f"
             ],
             [
              0.2222222222222222,
              "#7201a8"
             ],
             [
              0.3333333333333333,
              "#9c179e"
             ],
             [
              0.4444444444444444,
              "#bd3786"
             ],
             [
              0.5555555555555556,
              "#d8576b"
             ],
             [
              0.6666666666666666,
              "#ed7953"
             ],
             [
              0.7777777777777778,
              "#fb9f3a"
             ],
             [
              0.8888888888888888,
              "#fdca26"
             ],
             [
              1,
              "#f0f921"
             ]
            ],
            "type": "surface"
           }
          ],
          "table": [
           {
            "cells": {
             "fill": {
              "color": "#EBF0F8"
             },
             "line": {
              "color": "white"
             }
            },
            "header": {
             "fill": {
              "color": "#C8D4E3"
             },
             "line": {
              "color": "white"
             }
            },
            "type": "table"
           }
          ]
         },
         "layout": {
          "annotationdefaults": {
           "arrowcolor": "#2a3f5f",
           "arrowhead": 0,
           "arrowwidth": 1
          },
          "autotypenumbers": "strict",
          "coloraxis": {
           "colorbar": {
            "outlinewidth": 0,
            "ticks": ""
           }
          },
          "colorscale": {
           "diverging": [
            [
             0,
             "#8e0152"
            ],
            [
             0.1,
             "#c51b7d"
            ],
            [
             0.2,
             "#de77ae"
            ],
            [
             0.3,
             "#f1b6da"
            ],
            [
             0.4,
             "#fde0ef"
            ],
            [
             0.5,
             "#f7f7f7"
            ],
            [
             0.6,
             "#e6f5d0"
            ],
            [
             0.7,
             "#b8e186"
            ],
            [
             0.8,
             "#7fbc41"
            ],
            [
             0.9,
             "#4d9221"
            ],
            [
             1,
             "#276419"
            ]
           ],
           "sequential": [
            [
             0,
             "#0d0887"
            ],
            [
             0.1111111111111111,
             "#46039f"
            ],
            [
             0.2222222222222222,
             "#7201a8"
            ],
            [
             0.3333333333333333,
             "#9c179e"
            ],
            [
             0.4444444444444444,
             "#bd3786"
            ],
            [
             0.5555555555555556,
             "#d8576b"
            ],
            [
             0.6666666666666666,
             "#ed7953"
            ],
            [
             0.7777777777777778,
             "#fb9f3a"
            ],
            [
             0.8888888888888888,
             "#fdca26"
            ],
            [
             1,
             "#f0f921"
            ]
           ],
           "sequentialminus": [
            [
             0,
             "#0d0887"
            ],
            [
             0.1111111111111111,
             "#46039f"
            ],
            [
             0.2222222222222222,
             "#7201a8"
            ],
            [
             0.3333333333333333,
             "#9c179e"
            ],
            [
             0.4444444444444444,
             "#bd3786"
            ],
            [
             0.5555555555555556,
             "#d8576b"
            ],
            [
             0.6666666666666666,
             "#ed7953"
            ],
            [
             0.7777777777777778,
             "#fb9f3a"
            ],
            [
             0.8888888888888888,
             "#fdca26"
            ],
            [
             1,
             "#f0f921"
            ]
           ]
          },
          "colorway": [
           "#636efa",
           "#EF553B",
           "#00cc96",
           "#ab63fa",
           "#FFA15A",
           "#19d3f3",
           "#FF6692",
           "#B6E880",
           "#FF97FF",
           "#FECB52"
          ],
          "font": {
           "color": "#2a3f5f"
          },
          "geo": {
           "bgcolor": "white",
           "lakecolor": "white",
           "landcolor": "#E5ECF6",
           "showlakes": true,
           "showland": true,
           "subunitcolor": "white"
          },
          "hoverlabel": {
           "align": "left"
          },
          "hovermode": "closest",
          "mapbox": {
           "style": "light"
          },
          "paper_bgcolor": "white",
          "plot_bgcolor": "#E5ECF6",
          "polar": {
           "angularaxis": {
            "gridcolor": "white",
            "linecolor": "white",
            "ticks": ""
           },
           "bgcolor": "#E5ECF6",
           "radialaxis": {
            "gridcolor": "white",
            "linecolor": "white",
            "ticks": ""
           }
          },
          "scene": {
           "xaxis": {
            "backgroundcolor": "#E5ECF6",
            "gridcolor": "white",
            "gridwidth": 2,
            "linecolor": "white",
            "showbackground": true,
            "ticks": "",
            "zerolinecolor": "white"
           },
           "yaxis": {
            "backgroundcolor": "#E5ECF6",
            "gridcolor": "white",
            "gridwidth": 2,
            "linecolor": "white",
            "showbackground": true,
            "ticks": "",
            "zerolinecolor": "white"
           },
           "zaxis": {
            "backgroundcolor": "#E5ECF6",
            "gridcolor": "white",
            "gridwidth": 2,
            "linecolor": "white",
            "showbackground": true,
            "ticks": "",
            "zerolinecolor": "white"
           }
          },
          "shapedefaults": {
           "line": {
            "color": "#2a3f5f"
           }
          },
          "ternary": {
           "aaxis": {
            "gridcolor": "white",
            "linecolor": "white",
            "ticks": ""
           },
           "baxis": {
            "gridcolor": "white",
            "linecolor": "white",
            "ticks": ""
           },
           "bgcolor": "#E5ECF6",
           "caxis": {
            "gridcolor": "white",
            "linecolor": "white",
            "ticks": ""
           }
          },
          "title": {
           "x": 0.05
          },
          "xaxis": {
           "automargin": true,
           "gridcolor": "white",
           "linecolor": "white",
           "ticks": "",
           "title": {
            "standoff": 15
           },
           "zerolinecolor": "white",
           "zerolinewidth": 2
          },
          "yaxis": {
           "automargin": true,
           "gridcolor": "white",
           "linecolor": "white",
           "ticks": "",
           "title": {
            "standoff": 15
           },
           "zerolinecolor": "white",
           "zerolinewidth": 2
          }
         }
        },
        "title": {
         "text": "Total Social Media Engagement By Time"
        },
        "xaxis": {
         "anchor": "y",
         "domain": [
          0,
          1
         ],
         "title": {
          "text": "post_time"
         }
        },
        "yaxis": {
         "anchor": "x",
         "domain": [
          0,
          1
         ],
         "title": {
          "text": "total_engagement"
         }
        }
       }
      }
     },
     "metadata": {},
     "output_type": "display_data"
    }
   ],
   "source": [
    "classifi_ti=df.groupby(\"post_time\")[\"total_engagement\"].sum().reset_index()\n",
    "classifi_ti\n",
    "fig=px.line(classifi_ti,x=\"post_time\",y=\"total_engagement\",title=\"Total Social Media Engagement By Time\")\n",
    "fig.show()"
   ]
  },
  {
   "cell_type": "code",
   "execution_count": 258,
   "id": "deeedc9f",
   "metadata": {},
   "outputs": [
    {
     "data": {
      "application/vnd.plotly.v1+json": {
       "config": {
        "plotlyServerURL": "https://plot.ly"
       },
       "data": [
        {
         "hovertemplate": "post_day=%{x}<br>total_engagement=%{y}<extra></extra>",
         "legendgroup": "",
         "line": {
          "color": "#636efa",
          "dash": "solid"
         },
         "marker": {
          "symbol": "circle"
         },
         "mode": "lines",
         "name": "",
         "orientation": "v",
         "showlegend": false,
         "type": "scatter",
         "x": [
          "Friday",
          "Monday",
          "Saturday",
          "Sunday",
          "Thursday",
          "Tuesday",
          "Wednesday"
         ],
         "xaxis": "x",
         "y": {
          "bdata": "S88AAOVeAABiYAAANr4AAGiyAAArrwAAkeUAAA==",
          "dtype": "i4"
         },
         "yaxis": "y"
        }
       ],
       "layout": {
        "legend": {
         "tracegroupgap": 0
        },
        "template": {
         "data": {
          "bar": [
           {
            "error_x": {
             "color": "#2a3f5f"
            },
            "error_y": {
             "color": "#2a3f5f"
            },
            "marker": {
             "line": {
              "color": "#E5ECF6",
              "width": 0.5
             },
             "pattern": {
              "fillmode": "overlay",
              "size": 10,
              "solidity": 0.2
             }
            },
            "type": "bar"
           }
          ],
          "barpolar": [
           {
            "marker": {
             "line": {
              "color": "#E5ECF6",
              "width": 0.5
             },
             "pattern": {
              "fillmode": "overlay",
              "size": 10,
              "solidity": 0.2
             }
            },
            "type": "barpolar"
           }
          ],
          "carpet": [
           {
            "aaxis": {
             "endlinecolor": "#2a3f5f",
             "gridcolor": "white",
             "linecolor": "white",
             "minorgridcolor": "white",
             "startlinecolor": "#2a3f5f"
            },
            "baxis": {
             "endlinecolor": "#2a3f5f",
             "gridcolor": "white",
             "linecolor": "white",
             "minorgridcolor": "white",
             "startlinecolor": "#2a3f5f"
            },
            "type": "carpet"
           }
          ],
          "choropleth": [
           {
            "colorbar": {
             "outlinewidth": 0,
             "ticks": ""
            },
            "type": "choropleth"
           }
          ],
          "contour": [
           {
            "colorbar": {
             "outlinewidth": 0,
             "ticks": ""
            },
            "colorscale": [
             [
              0,
              "#0d0887"
             ],
             [
              0.1111111111111111,
              "#46039f"
             ],
             [
              0.2222222222222222,
              "#7201a8"
             ],
             [
              0.3333333333333333,
              "#9c179e"
             ],
             [
              0.4444444444444444,
              "#bd3786"
             ],
             [
              0.5555555555555556,
              "#d8576b"
             ],
             [
              0.6666666666666666,
              "#ed7953"
             ],
             [
              0.7777777777777778,
              "#fb9f3a"
             ],
             [
              0.8888888888888888,
              "#fdca26"
             ],
             [
              1,
              "#f0f921"
             ]
            ],
            "type": "contour"
           }
          ],
          "contourcarpet": [
           {
            "colorbar": {
             "outlinewidth": 0,
             "ticks": ""
            },
            "type": "contourcarpet"
           }
          ],
          "heatmap": [
           {
            "colorbar": {
             "outlinewidth": 0,
             "ticks": ""
            },
            "colorscale": [
             [
              0,
              "#0d0887"
             ],
             [
              0.1111111111111111,
              "#46039f"
             ],
             [
              0.2222222222222222,
              "#7201a8"
             ],
             [
              0.3333333333333333,
              "#9c179e"
             ],
             [
              0.4444444444444444,
              "#bd3786"
             ],
             [
              0.5555555555555556,
              "#d8576b"
             ],
             [
              0.6666666666666666,
              "#ed7953"
             ],
             [
              0.7777777777777778,
              "#fb9f3a"
             ],
             [
              0.8888888888888888,
              "#fdca26"
             ],
             [
              1,
              "#f0f921"
             ]
            ],
            "type": "heatmap"
           }
          ],
          "histogram": [
           {
            "marker": {
             "pattern": {
              "fillmode": "overlay",
              "size": 10,
              "solidity": 0.2
             }
            },
            "type": "histogram"
           }
          ],
          "histogram2d": [
           {
            "colorbar": {
             "outlinewidth": 0,
             "ticks": ""
            },
            "colorscale": [
             [
              0,
              "#0d0887"
             ],
             [
              0.1111111111111111,
              "#46039f"
             ],
             [
              0.2222222222222222,
              "#7201a8"
             ],
             [
              0.3333333333333333,
              "#9c179e"
             ],
             [
              0.4444444444444444,
              "#bd3786"
             ],
             [
              0.5555555555555556,
              "#d8576b"
             ],
             [
              0.6666666666666666,
              "#ed7953"
             ],
             [
              0.7777777777777778,
              "#fb9f3a"
             ],
             [
              0.8888888888888888,
              "#fdca26"
             ],
             [
              1,
              "#f0f921"
             ]
            ],
            "type": "histogram2d"
           }
          ],
          "histogram2dcontour": [
           {
            "colorbar": {
             "outlinewidth": 0,
             "ticks": ""
            },
            "colorscale": [
             [
              0,
              "#0d0887"
             ],
             [
              0.1111111111111111,
              "#46039f"
             ],
             [
              0.2222222222222222,
              "#7201a8"
             ],
             [
              0.3333333333333333,
              "#9c179e"
             ],
             [
              0.4444444444444444,
              "#bd3786"
             ],
             [
              0.5555555555555556,
              "#d8576b"
             ],
             [
              0.6666666666666666,
              "#ed7953"
             ],
             [
              0.7777777777777778,
              "#fb9f3a"
             ],
             [
              0.8888888888888888,
              "#fdca26"
             ],
             [
              1,
              "#f0f921"
             ]
            ],
            "type": "histogram2dcontour"
           }
          ],
          "mesh3d": [
           {
            "colorbar": {
             "outlinewidth": 0,
             "ticks": ""
            },
            "type": "mesh3d"
           }
          ],
          "parcoords": [
           {
            "line": {
             "colorbar": {
              "outlinewidth": 0,
              "ticks": ""
             }
            },
            "type": "parcoords"
           }
          ],
          "pie": [
           {
            "automargin": true,
            "type": "pie"
           }
          ],
          "scatter": [
           {
            "fillpattern": {
             "fillmode": "overlay",
             "size": 10,
             "solidity": 0.2
            },
            "type": "scatter"
           }
          ],
          "scatter3d": [
           {
            "line": {
             "colorbar": {
              "outlinewidth": 0,
              "ticks": ""
             }
            },
            "marker": {
             "colorbar": {
              "outlinewidth": 0,
              "ticks": ""
             }
            },
            "type": "scatter3d"
           }
          ],
          "scattercarpet": [
           {
            "marker": {
             "colorbar": {
              "outlinewidth": 0,
              "ticks": ""
             }
            },
            "type": "scattercarpet"
           }
          ],
          "scattergeo": [
           {
            "marker": {
             "colorbar": {
              "outlinewidth": 0,
              "ticks": ""
             }
            },
            "type": "scattergeo"
           }
          ],
          "scattergl": [
           {
            "marker": {
             "colorbar": {
              "outlinewidth": 0,
              "ticks": ""
             }
            },
            "type": "scattergl"
           }
          ],
          "scattermap": [
           {
            "marker": {
             "colorbar": {
              "outlinewidth": 0,
              "ticks": ""
             }
            },
            "type": "scattermap"
           }
          ],
          "scattermapbox": [
           {
            "marker": {
             "colorbar": {
              "outlinewidth": 0,
              "ticks": ""
             }
            },
            "type": "scattermapbox"
           }
          ],
          "scatterpolar": [
           {
            "marker": {
             "colorbar": {
              "outlinewidth": 0,
              "ticks": ""
             }
            },
            "type": "scatterpolar"
           }
          ],
          "scatterpolargl": [
           {
            "marker": {
             "colorbar": {
              "outlinewidth": 0,
              "ticks": ""
             }
            },
            "type": "scatterpolargl"
           }
          ],
          "scatterternary": [
           {
            "marker": {
             "colorbar": {
              "outlinewidth": 0,
              "ticks": ""
             }
            },
            "type": "scatterternary"
           }
          ],
          "surface": [
           {
            "colorbar": {
             "outlinewidth": 0,
             "ticks": ""
            },
            "colorscale": [
             [
              0,
              "#0d0887"
             ],
             [
              0.1111111111111111,
              "#46039f"
             ],
             [
              0.2222222222222222,
              "#7201a8"
             ],
             [
              0.3333333333333333,
              "#9c179e"
             ],
             [
              0.4444444444444444,
              "#bd3786"
             ],
             [
              0.5555555555555556,
              "#d8576b"
             ],
             [
              0.6666666666666666,
              "#ed7953"
             ],
             [
              0.7777777777777778,
              "#fb9f3a"
             ],
             [
              0.8888888888888888,
              "#fdca26"
             ],
             [
              1,
              "#f0f921"
             ]
            ],
            "type": "surface"
           }
          ],
          "table": [
           {
            "cells": {
             "fill": {
              "color": "#EBF0F8"
             },
             "line": {
              "color": "white"
             }
            },
            "header": {
             "fill": {
              "color": "#C8D4E3"
             },
             "line": {
              "color": "white"
             }
            },
            "type": "table"
           }
          ]
         },
         "layout": {
          "annotationdefaults": {
           "arrowcolor": "#2a3f5f",
           "arrowhead": 0,
           "arrowwidth": 1
          },
          "autotypenumbers": "strict",
          "coloraxis": {
           "colorbar": {
            "outlinewidth": 0,
            "ticks": ""
           }
          },
          "colorscale": {
           "diverging": [
            [
             0,
             "#8e0152"
            ],
            [
             0.1,
             "#c51b7d"
            ],
            [
             0.2,
             "#de77ae"
            ],
            [
             0.3,
             "#f1b6da"
            ],
            [
             0.4,
             "#fde0ef"
            ],
            [
             0.5,
             "#f7f7f7"
            ],
            [
             0.6,
             "#e6f5d0"
            ],
            [
             0.7,
             "#b8e186"
            ],
            [
             0.8,
             "#7fbc41"
            ],
            [
             0.9,
             "#4d9221"
            ],
            [
             1,
             "#276419"
            ]
           ],
           "sequential": [
            [
             0,
             "#0d0887"
            ],
            [
             0.1111111111111111,
             "#46039f"
            ],
            [
             0.2222222222222222,
             "#7201a8"
            ],
            [
             0.3333333333333333,
             "#9c179e"
            ],
            [
             0.4444444444444444,
             "#bd3786"
            ],
            [
             0.5555555555555556,
             "#d8576b"
            ],
            [
             0.6666666666666666,
             "#ed7953"
            ],
            [
             0.7777777777777778,
             "#fb9f3a"
            ],
            [
             0.8888888888888888,
             "#fdca26"
            ],
            [
             1,
             "#f0f921"
            ]
           ],
           "sequentialminus": [
            [
             0,
             "#0d0887"
            ],
            [
             0.1111111111111111,
             "#46039f"
            ],
            [
             0.2222222222222222,
             "#7201a8"
            ],
            [
             0.3333333333333333,
             "#9c179e"
            ],
            [
             0.4444444444444444,
             "#bd3786"
            ],
            [
             0.5555555555555556,
             "#d8576b"
            ],
            [
             0.6666666666666666,
             "#ed7953"
            ],
            [
             0.7777777777777778,
             "#fb9f3a"
            ],
            [
             0.8888888888888888,
             "#fdca26"
            ],
            [
             1,
             "#f0f921"
            ]
           ]
          },
          "colorway": [
           "#636efa",
           "#EF553B",
           "#00cc96",
           "#ab63fa",
           "#FFA15A",
           "#19d3f3",
           "#FF6692",
           "#B6E880",
           "#FF97FF",
           "#FECB52"
          ],
          "font": {
           "color": "#2a3f5f"
          },
          "geo": {
           "bgcolor": "white",
           "lakecolor": "white",
           "landcolor": "#E5ECF6",
           "showlakes": true,
           "showland": true,
           "subunitcolor": "white"
          },
          "hoverlabel": {
           "align": "left"
          },
          "hovermode": "closest",
          "mapbox": {
           "style": "light"
          },
          "paper_bgcolor": "white",
          "plot_bgcolor": "#E5ECF6",
          "polar": {
           "angularaxis": {
            "gridcolor": "white",
            "linecolor": "white",
            "ticks": ""
           },
           "bgcolor": "#E5ECF6",
           "radialaxis": {
            "gridcolor": "white",
            "linecolor": "white",
            "ticks": ""
           }
          },
          "scene": {
           "xaxis": {
            "backgroundcolor": "#E5ECF6",
            "gridcolor": "white",
            "gridwidth": 2,
            "linecolor": "white",
            "showbackground": true,
            "ticks": "",
            "zerolinecolor": "white"
           },
           "yaxis": {
            "backgroundcolor": "#E5ECF6",
            "gridcolor": "white",
            "gridwidth": 2,
            "linecolor": "white",
            "showbackground": true,
            "ticks": "",
            "zerolinecolor": "white"
           },
           "zaxis": {
            "backgroundcolor": "#E5ECF6",
            "gridcolor": "white",
            "gridwidth": 2,
            "linecolor": "white",
            "showbackground": true,
            "ticks": "",
            "zerolinecolor": "white"
           }
          },
          "shapedefaults": {
           "line": {
            "color": "#2a3f5f"
           }
          },
          "ternary": {
           "aaxis": {
            "gridcolor": "white",
            "linecolor": "white",
            "ticks": ""
           },
           "baxis": {
            "gridcolor": "white",
            "linecolor": "white",
            "ticks": ""
           },
           "bgcolor": "#E5ECF6",
           "caxis": {
            "gridcolor": "white",
            "linecolor": "white",
            "ticks": ""
           }
          },
          "title": {
           "x": 0.05
          },
          "xaxis": {
           "automargin": true,
           "gridcolor": "white",
           "linecolor": "white",
           "ticks": "",
           "title": {
            "standoff": 15
           },
           "zerolinecolor": "white",
           "zerolinewidth": 2
          },
          "yaxis": {
           "automargin": true,
           "gridcolor": "white",
           "linecolor": "white",
           "ticks": "",
           "title": {
            "standoff": 15
           },
           "zerolinecolor": "white",
           "zerolinewidth": 2
          }
         }
        },
        "title": {
         "text": "Total Social Media Engagement By Time"
        },
        "xaxis": {
         "anchor": "y",
         "domain": [
          0,
          1
         ],
         "title": {
          "text": "post_day"
         }
        },
        "yaxis": {
         "anchor": "x",
         "domain": [
          0,
          1
         ],
         "title": {
          "text": "total_engagement"
         }
        }
       }
      }
     },
     "metadata": {},
     "output_type": "display_data"
    }
   ],
   "source": [
    "classifi_dt=df.groupby(\"post_day\")[\"total_engagement\"].sum().reset_index()\n",
    "classifi_dt\n",
    "fig=px.line(classifi_dt,x=\"post_day\",y=\"total_engagement\",title=\"Total Social Media Engagement By Time\")\n",
    "fig.show()"
   ]
  },
  {
   "cell_type": "code",
   "execution_count": 263,
   "id": "68528db9",
   "metadata": {},
   "outputs": [
    {
     "data": {
      "text/html": [
       "<style type=\"text/css\">\n",
       "#T_a879d_row0_col3 {\n",
       "  background-color: #67000d;\n",
       "  color: #f1f1f1;\n",
       "}\n",
       "#T_a879d_row1_col3 {\n",
       "  background-color: #71020e;\n",
       "  color: #f1f1f1;\n",
       "}\n",
       "#T_a879d_row2_col3 {\n",
       "  background-color: #7a0510;\n",
       "  color: #f1f1f1;\n",
       "}\n",
       "#T_a879d_row3_col3 {\n",
       "  background-color: #8a0812;\n",
       "  color: #f1f1f1;\n",
       "}\n",
       "#T_a879d_row4_col3 {\n",
       "  background-color: #9f0e14;\n",
       "  color: #f1f1f1;\n",
       "}\n",
       "#T_a879d_row5_col3 {\n",
       "  background-color: #ce1a1e;\n",
       "  color: #f1f1f1;\n",
       "}\n",
       "#T_a879d_row6_col3 {\n",
       "  background-color: #d01d1f;\n",
       "  color: #f1f1f1;\n",
       "}\n",
       "#T_a879d_row7_col3 {\n",
       "  background-color: #e22e27;\n",
       "  color: #f1f1f1;\n",
       "}\n",
       "#T_a879d_row8_col3 {\n",
       "  background-color: #ec382b;\n",
       "  color: #f1f1f1;\n",
       "}\n",
       "#T_a879d_row9_col3 {\n",
       "  background-color: #f03d2d;\n",
       "  color: #f1f1f1;\n",
       "}\n",
       "#T_a879d_row10_col3 {\n",
       "  background-color: #f14432;\n",
       "  color: #f1f1f1;\n",
       "}\n",
       "#T_a879d_row11_col3 {\n",
       "  background-color: #fa6648;\n",
       "  color: #f1f1f1;\n",
       "}\n",
       "#T_a879d_row12_col3 {\n",
       "  background-color: #fb694a;\n",
       "  color: #f1f1f1;\n",
       "}\n",
       "#T_a879d_row13_col3 {\n",
       "  background-color: #fb6c4c;\n",
       "  color: #f1f1f1;\n",
       "}\n",
       "#T_a879d_row14_col3 {\n",
       "  background-color: #fb7050;\n",
       "  color: #f1f1f1;\n",
       "}\n",
       "#T_a879d_row15_col3 {\n",
       "  background-color: #fb7353;\n",
       "  color: #f1f1f1;\n",
       "}\n",
       "#T_a879d_row16_col3 {\n",
       "  background-color: #fc9272;\n",
       "  color: #000000;\n",
       "}\n",
       "#T_a879d_row17_col3 {\n",
       "  background-color: #fc9879;\n",
       "  color: #000000;\n",
       "}\n",
       "#T_a879d_row18_col3 {\n",
       "  background-color: #fc997a;\n",
       "  color: #000000;\n",
       "}\n",
       "#T_a879d_row19_col3 {\n",
       "  background-color: #fca285;\n",
       "  color: #000000;\n",
       "}\n",
       "#T_a879d_row20_col3 {\n",
       "  background-color: #fca98c;\n",
       "  color: #000000;\n",
       "}\n",
       "#T_a879d_row21_col3 {\n",
       "  background-color: #fcab8f;\n",
       "  color: #000000;\n",
       "}\n",
       "#T_a879d_row22_col3 {\n",
       "  background-color: #fcb89e;\n",
       "  color: #000000;\n",
       "}\n",
       "#T_a879d_row23_col3 {\n",
       "  background-color: #fcb99f;\n",
       "  color: #000000;\n",
       "}\n",
       "#T_a879d_row24_col3 {\n",
       "  background-color: #fcc1a8;\n",
       "  color: #000000;\n",
       "}\n",
       "#T_a879d_row25_col3 {\n",
       "  background-color: #fcc2aa;\n",
       "  color: #000000;\n",
       "}\n",
       "#T_a879d_row26_col3 {\n",
       "  background-color: #fdc7b2;\n",
       "  color: #000000;\n",
       "}\n",
       "#T_a879d_row27_col3 {\n",
       "  background-color: #fdccb8;\n",
       "  color: #000000;\n",
       "}\n",
       "#T_a879d_row28_col3 {\n",
       "  background-color: #fdd4c2;\n",
       "  color: #000000;\n",
       "}\n",
       "#T_a879d_row29_col3 {\n",
       "  background-color: #fedbcc;\n",
       "  color: #000000;\n",
       "}\n",
       "#T_a879d_row30_col3 {\n",
       "  background-color: #fee0d2;\n",
       "  color: #000000;\n",
       "}\n",
       "#T_a879d_row31_col3 {\n",
       "  background-color: #feeae0;\n",
       "  color: #000000;\n",
       "}\n",
       "#T_a879d_row32_col3, #T_a879d_row33_col3 {\n",
       "  background-color: #ffeee6;\n",
       "  color: #000000;\n",
       "}\n",
       "#T_a879d_row34_col3 {\n",
       "  background-color: #ffeee7;\n",
       "  color: #000000;\n",
       "}\n",
       "#T_a879d_row35_col3, #T_a879d_row36_col3 {\n",
       "  background-color: #ffefe8;\n",
       "  color: #000000;\n",
       "}\n",
       "#T_a879d_row37_col3 {\n",
       "  background-color: #fff3ed;\n",
       "  color: #000000;\n",
       "}\n",
       "#T_a879d_row38_col3 {\n",
       "  background-color: #fff5f0;\n",
       "  color: #000000;\n",
       "}\n",
       "</style>\n",
       "<table id=\"T_a879d\">\n",
       "  <thead>\n",
       "    <tr>\n",
       "      <th class=\"blank level0\" >&nbsp;</th>\n",
       "      <th id=\"T_a879d_level0_col0\" class=\"col_heading level0 col0\" >platform</th>\n",
       "      <th id=\"T_a879d_level0_col1\" class=\"col_heading level0 col1\" >post_type</th>\n",
       "      <th id=\"T_a879d_level0_col2\" class=\"col_heading level0 col2\" >sentiment_score</th>\n",
       "      <th id=\"T_a879d_level0_col3\" class=\"col_heading level0 col3\" >total_engagement</th>\n",
       "    </tr>\n",
       "  </thead>\n",
       "  <tbody>\n",
       "    <tr>\n",
       "      <th id=\"T_a879d_level0_row0\" class=\"row_heading level0 row0\" >0</th>\n",
       "      <td id=\"T_a879d_row0_col0\" class=\"data row0 col0\" >Instagram</td>\n",
       "      <td id=\"T_a879d_row0_col1\" class=\"data row0 col1\" >carousel</td>\n",
       "      <td id=\"T_a879d_row0_col2\" class=\"data row0 col2\" >positive</td>\n",
       "      <td id=\"T_a879d_row0_col3\" class=\"data row0 col3\" >18423</td>\n",
       "    </tr>\n",
       "    <tr>\n",
       "      <th id=\"T_a879d_level0_row1\" class=\"row_heading level0 row1\" >1</th>\n",
       "      <td id=\"T_a879d_row1_col0\" class=\"data row1 col0\" >Instagram</td>\n",
       "      <td id=\"T_a879d_row1_col1\" class=\"data row1 col1\" >video</td>\n",
       "      <td id=\"T_a879d_row1_col2\" class=\"data row1 col2\" >negative</td>\n",
       "      <td id=\"T_a879d_row1_col3\" class=\"data row1 col3\" >18071</td>\n",
       "    </tr>\n",
       "    <tr>\n",
       "      <th id=\"T_a879d_level0_row2\" class=\"row_heading level0 row2\" >2</th>\n",
       "      <td id=\"T_a879d_row2_col0\" class=\"data row2 col0\" >Facebook</td>\n",
       "      <td id=\"T_a879d_row2_col1\" class=\"data row2 col1\" >video</td>\n",
       "      <td id=\"T_a879d_row2_col2\" class=\"data row2 col2\" >neutral</td>\n",
       "      <td id=\"T_a879d_row2_col3\" class=\"data row2 col3\" >17720</td>\n",
       "    </tr>\n",
       "    <tr>\n",
       "      <th id=\"T_a879d_level0_row3\" class=\"row_heading level0 row3\" >3</th>\n",
       "      <td id=\"T_a879d_row3_col0\" class=\"data row3 col0\" >Facebook</td>\n",
       "      <td id=\"T_a879d_row3_col1\" class=\"data row3 col1\" >carousel</td>\n",
       "      <td id=\"T_a879d_row3_col2\" class=\"data row3 col2\" >negative</td>\n",
       "      <td id=\"T_a879d_row3_col3\" class=\"data row3 col3\" >17177</td>\n",
       "    </tr>\n",
       "    <tr>\n",
       "      <th id=\"T_a879d_level0_row4\" class=\"row_heading level0 row4\" >4</th>\n",
       "      <td id=\"T_a879d_row4_col0\" class=\"data row4 col0\" >Instagram</td>\n",
       "      <td id=\"T_a879d_row4_col1\" class=\"data row4 col1\" >poll</td>\n",
       "      <td id=\"T_a879d_row4_col2\" class=\"data row4 col2\" >positive</td>\n",
       "      <td id=\"T_a879d_row4_col3\" class=\"data row4 col3\" >16353</td>\n",
       "    </tr>\n",
       "    <tr>\n",
       "      <th id=\"T_a879d_level0_row5\" class=\"row_heading level0 row5\" >5</th>\n",
       "      <td id=\"T_a879d_row5_col0\" class=\"data row5 col0\" >Facebook</td>\n",
       "      <td id=\"T_a879d_row5_col1\" class=\"data row5 col1\" >video</td>\n",
       "      <td id=\"T_a879d_row5_col2\" class=\"data row5 col2\" >positive</td>\n",
       "      <td id=\"T_a879d_row5_col3\" class=\"data row5 col3\" >13864</td>\n",
       "    </tr>\n",
       "    <tr>\n",
       "      <th id=\"T_a879d_level0_row6\" class=\"row_heading level0 row6\" >6</th>\n",
       "      <td id=\"T_a879d_row6_col0\" class=\"data row6 col0\" >Twitter</td>\n",
       "      <td id=\"T_a879d_row6_col1\" class=\"data row6 col1\" >carousel</td>\n",
       "      <td id=\"T_a879d_row6_col2\" class=\"data row6 col2\" >positive</td>\n",
       "      <td id=\"T_a879d_row6_col3\" class=\"data row6 col3\" >13705</td>\n",
       "    </tr>\n",
       "    <tr>\n",
       "      <th id=\"T_a879d_level0_row7\" class=\"row_heading level0 row7\" >7</th>\n",
       "      <td id=\"T_a879d_row7_col0\" class=\"data row7 col0\" >Instagram</td>\n",
       "      <td id=\"T_a879d_row7_col1\" class=\"data row7 col1\" >image</td>\n",
       "      <td id=\"T_a879d_row7_col2\" class=\"data row7 col2\" >positive</td>\n",
       "      <td id=\"T_a879d_row7_col3\" class=\"data row7 col3\" >12590</td>\n",
       "    </tr>\n",
       "    <tr>\n",
       "      <th id=\"T_a879d_level0_row8\" class=\"row_heading level0 row8\" >8</th>\n",
       "      <td id=\"T_a879d_row8_col0\" class=\"data row8 col0\" >Facebook</td>\n",
       "      <td id=\"T_a879d_row8_col1\" class=\"data row8 col1\" >poll</td>\n",
       "      <td id=\"T_a879d_row8_col2\" class=\"data row8 col2\" >negative</td>\n",
       "      <td id=\"T_a879d_row8_col3\" class=\"data row8 col3\" >11985</td>\n",
       "    </tr>\n",
       "    <tr>\n",
       "      <th id=\"T_a879d_level0_row9\" class=\"row_heading level0 row9\" >9</th>\n",
       "      <td id=\"T_a879d_row9_col0\" class=\"data row9 col0\" >Instagram</td>\n",
       "      <td id=\"T_a879d_row9_col1\" class=\"data row9 col1\" >image</td>\n",
       "      <td id=\"T_a879d_row9_col2\" class=\"data row9 col2\" >negative</td>\n",
       "      <td id=\"T_a879d_row9_col3\" class=\"data row9 col3\" >11665</td>\n",
       "    </tr>\n",
       "    <tr>\n",
       "      <th id=\"T_a879d_level0_row10\" class=\"row_heading level0 row10\" >10</th>\n",
       "      <td id=\"T_a879d_row10_col0\" class=\"data row10 col0\" >Facebook</td>\n",
       "      <td id=\"T_a879d_row10_col1\" class=\"data row10 col1\" >text</td>\n",
       "      <td id=\"T_a879d_row10_col2\" class=\"data row10 col2\" >positive</td>\n",
       "      <td id=\"T_a879d_row10_col3\" class=\"data row10 col3\" >11320</td>\n",
       "    </tr>\n",
       "    <tr>\n",
       "      <th id=\"T_a879d_level0_row11\" class=\"row_heading level0 row11\" >11</th>\n",
       "      <td id=\"T_a879d_row11_col0\" class=\"data row11 col0\" >Instagram</td>\n",
       "      <td id=\"T_a879d_row11_col1\" class=\"data row11 col1\" >video</td>\n",
       "      <td id=\"T_a879d_row11_col2\" class=\"data row11 col2\" >neutral</td>\n",
       "      <td id=\"T_a879d_row11_col3\" class=\"data row11 col3\" >9767</td>\n",
       "    </tr>\n",
       "    <tr>\n",
       "      <th id=\"T_a879d_level0_row12\" class=\"row_heading level0 row12\" >12</th>\n",
       "      <td id=\"T_a879d_row12_col0\" class=\"data row12 col0\" >Instagram</td>\n",
       "      <td id=\"T_a879d_row12_col1\" class=\"data row12 col1\" >poll</td>\n",
       "      <td id=\"T_a879d_row12_col2\" class=\"data row12 col2\" >negative</td>\n",
       "      <td id=\"T_a879d_row12_col3\" class=\"data row12 col3\" >9598</td>\n",
       "    </tr>\n",
       "    <tr>\n",
       "      <th id=\"T_a879d_level0_row13\" class=\"row_heading level0 row13\" >13</th>\n",
       "      <td id=\"T_a879d_row13_col0\" class=\"data row13 col0\" >Instagram</td>\n",
       "      <td id=\"T_a879d_row13_col1\" class=\"data row13 col1\" >carousel</td>\n",
       "      <td id=\"T_a879d_row13_col2\" class=\"data row13 col2\" >negative</td>\n",
       "      <td id=\"T_a879d_row13_col3\" class=\"data row13 col3\" >9469</td>\n",
       "    </tr>\n",
       "    <tr>\n",
       "      <th id=\"T_a879d_level0_row14\" class=\"row_heading level0 row14\" >14</th>\n",
       "      <td id=\"T_a879d_row14_col0\" class=\"data row14 col0\" >Twitter</td>\n",
       "      <td id=\"T_a879d_row14_col1\" class=\"data row14 col1\" >text</td>\n",
       "      <td id=\"T_a879d_row14_col2\" class=\"data row14 col2\" >positive</td>\n",
       "      <td id=\"T_a879d_row14_col3\" class=\"data row14 col3\" >9273</td>\n",
       "    </tr>\n",
       "    <tr>\n",
       "      <th id=\"T_a879d_level0_row15\" class=\"row_heading level0 row15\" >15</th>\n",
       "      <td id=\"T_a879d_row15_col0\" class=\"data row15 col0\" >Twitter</td>\n",
       "      <td id=\"T_a879d_row15_col1\" class=\"data row15 col1\" >video</td>\n",
       "      <td id=\"T_a879d_row15_col2\" class=\"data row15 col2\" >positive</td>\n",
       "      <td id=\"T_a879d_row15_col3\" class=\"data row15 col3\" >9099</td>\n",
       "    </tr>\n",
       "    <tr>\n",
       "      <th id=\"T_a879d_level0_row16\" class=\"row_heading level0 row16\" >16</th>\n",
       "      <td id=\"T_a879d_row16_col0\" class=\"data row16 col0\" >Facebook</td>\n",
       "      <td id=\"T_a879d_row16_col1\" class=\"data row16 col1\" >carousel</td>\n",
       "      <td id=\"T_a879d_row16_col2\" class=\"data row16 col2\" >neutral</td>\n",
       "      <td id=\"T_a879d_row16_col3\" class=\"data row16 col3\" >7389</td>\n",
       "    </tr>\n",
       "    <tr>\n",
       "      <th id=\"T_a879d_level0_row17\" class=\"row_heading level0 row17\" >17</th>\n",
       "      <td id=\"T_a879d_row17_col0\" class=\"data row17 col0\" >Twitter</td>\n",
       "      <td id=\"T_a879d_row17_col1\" class=\"data row17 col1\" >poll</td>\n",
       "      <td id=\"T_a879d_row17_col2\" class=\"data row17 col2\" >positive</td>\n",
       "      <td id=\"T_a879d_row17_col3\" class=\"data row17 col3\" >7046</td>\n",
       "    </tr>\n",
       "    <tr>\n",
       "      <th id=\"T_a879d_level0_row18\" class=\"row_heading level0 row18\" >18</th>\n",
       "      <td id=\"T_a879d_row18_col0\" class=\"data row18 col0\" >Facebook</td>\n",
       "      <td id=\"T_a879d_row18_col1\" class=\"data row18 col1\" >carousel</td>\n",
       "      <td id=\"T_a879d_row18_col2\" class=\"data row18 col2\" >positive</td>\n",
       "      <td id=\"T_a879d_row18_col3\" class=\"data row18 col3\" >7014</td>\n",
       "    </tr>\n",
       "    <tr>\n",
       "      <th id=\"T_a879d_level0_row19\" class=\"row_heading level0 row19\" >19</th>\n",
       "      <td id=\"T_a879d_row19_col0\" class=\"data row19 col0\" >Instagram</td>\n",
       "      <td id=\"T_a879d_row19_col1\" class=\"data row19 col1\" >text</td>\n",
       "      <td id=\"T_a879d_row19_col2\" class=\"data row19 col2\" >positive</td>\n",
       "      <td id=\"T_a879d_row19_col3\" class=\"data row19 col3\" >6518</td>\n",
       "    </tr>\n",
       "    <tr>\n",
       "      <th id=\"T_a879d_level0_row20\" class=\"row_heading level0 row20\" >20</th>\n",
       "      <td id=\"T_a879d_row20_col0\" class=\"data row20 col0\" >Instagram</td>\n",
       "      <td id=\"T_a879d_row20_col1\" class=\"data row20 col1\" >video</td>\n",
       "      <td id=\"T_a879d_row20_col2\" class=\"data row20 col2\" >positive</td>\n",
       "      <td id=\"T_a879d_row20_col3\" class=\"data row20 col3\" >6198</td>\n",
       "    </tr>\n",
       "    <tr>\n",
       "      <th id=\"T_a879d_level0_row21\" class=\"row_heading level0 row21\" >21</th>\n",
       "      <td id=\"T_a879d_row21_col0\" class=\"data row21 col0\" >Facebook</td>\n",
       "      <td id=\"T_a879d_row21_col1\" class=\"data row21 col1\" >image</td>\n",
       "      <td id=\"T_a879d_row21_col2\" class=\"data row21 col2\" >positive</td>\n",
       "      <td id=\"T_a879d_row21_col3\" class=\"data row21 col3\" >6034</td>\n",
       "    </tr>\n",
       "    <tr>\n",
       "      <th id=\"T_a879d_level0_row22\" class=\"row_heading level0 row22\" >22</th>\n",
       "      <td id=\"T_a879d_row22_col0\" class=\"data row22 col0\" >Instagram</td>\n",
       "      <td id=\"T_a879d_row22_col1\" class=\"data row22 col1\" >text</td>\n",
       "      <td id=\"T_a879d_row22_col2\" class=\"data row22 col2\" >negative</td>\n",
       "      <td id=\"T_a879d_row22_col3\" class=\"data row22 col3\" >5370</td>\n",
       "    </tr>\n",
       "    <tr>\n",
       "      <th id=\"T_a879d_level0_row23\" class=\"row_heading level0 row23\" >23</th>\n",
       "      <td id=\"T_a879d_row23_col0\" class=\"data row23 col0\" >Facebook</td>\n",
       "      <td id=\"T_a879d_row23_col1\" class=\"data row23 col1\" >video</td>\n",
       "      <td id=\"T_a879d_row23_col2\" class=\"data row23 col2\" >negative</td>\n",
       "      <td id=\"T_a879d_row23_col3\" class=\"data row23 col3\" >5248</td>\n",
       "    </tr>\n",
       "    <tr>\n",
       "      <th id=\"T_a879d_level0_row24\" class=\"row_heading level0 row24\" >24</th>\n",
       "      <td id=\"T_a879d_row24_col0\" class=\"data row24 col0\" >Instagram</td>\n",
       "      <td id=\"T_a879d_row24_col1\" class=\"data row24 col1\" >image</td>\n",
       "      <td id=\"T_a879d_row24_col2\" class=\"data row24 col2\" >neutral</td>\n",
       "      <td id=\"T_a879d_row24_col3\" class=\"data row24 col3\" >4865</td>\n",
       "    </tr>\n",
       "    <tr>\n",
       "      <th id=\"T_a879d_level0_row25\" class=\"row_heading level0 row25\" >25</th>\n",
       "      <td id=\"T_a879d_row25_col0\" class=\"data row25 col0\" >Twitter</td>\n",
       "      <td id=\"T_a879d_row25_col1\" class=\"data row25 col1\" >image</td>\n",
       "      <td id=\"T_a879d_row25_col2\" class=\"data row25 col2\" >neutral</td>\n",
       "      <td id=\"T_a879d_row25_col3\" class=\"data row25 col3\" >4789</td>\n",
       "    </tr>\n",
       "    <tr>\n",
       "      <th id=\"T_a879d_level0_row26\" class=\"row_heading level0 row26\" >26</th>\n",
       "      <td id=\"T_a879d_row26_col0\" class=\"data row26 col0\" >Instagram</td>\n",
       "      <td id=\"T_a879d_row26_col1\" class=\"data row26 col1\" >text</td>\n",
       "      <td id=\"T_a879d_row26_col2\" class=\"data row26 col2\" >neutral</td>\n",
       "      <td id=\"T_a879d_row26_col3\" class=\"data row26 col3\" >4422</td>\n",
       "    </tr>\n",
       "    <tr>\n",
       "      <th id=\"T_a879d_level0_row27\" class=\"row_heading level0 row27\" >27</th>\n",
       "      <td id=\"T_a879d_row27_col0\" class=\"data row27 col0\" >Facebook</td>\n",
       "      <td id=\"T_a879d_row27_col1\" class=\"data row27 col1\" >text</td>\n",
       "      <td id=\"T_a879d_row27_col2\" class=\"data row27 col2\" >negative</td>\n",
       "      <td id=\"T_a879d_row27_col3\" class=\"data row27 col3\" >4145</td>\n",
       "    </tr>\n",
       "    <tr>\n",
       "      <th id=\"T_a879d_level0_row28\" class=\"row_heading level0 row28\" >28</th>\n",
       "      <td id=\"T_a879d_row28_col0\" class=\"data row28 col0\" >Twitter</td>\n",
       "      <td id=\"T_a879d_row28_col1\" class=\"data row28 col1\" >carousel</td>\n",
       "      <td id=\"T_a879d_row28_col2\" class=\"data row28 col2\" >neutral</td>\n",
       "      <td id=\"T_a879d_row28_col3\" class=\"data row28 col3\" >3663</td>\n",
       "    </tr>\n",
       "    <tr>\n",
       "      <th id=\"T_a879d_level0_row29\" class=\"row_heading level0 row29\" >29</th>\n",
       "      <td id=\"T_a879d_row29_col0\" class=\"data row29 col0\" >Facebook</td>\n",
       "      <td id=\"T_a879d_row29_col1\" class=\"data row29 col1\" >text</td>\n",
       "      <td id=\"T_a879d_row29_col2\" class=\"data row29 col2\" >neutral</td>\n",
       "      <td id=\"T_a879d_row29_col3\" class=\"data row29 col3\" >3238</td>\n",
       "    </tr>\n",
       "    <tr>\n",
       "      <th id=\"T_a879d_level0_row30\" class=\"row_heading level0 row30\" >30</th>\n",
       "      <td id=\"T_a879d_row30_col0\" class=\"data row30 col0\" >Facebook</td>\n",
       "      <td id=\"T_a879d_row30_col1\" class=\"data row30 col1\" >poll</td>\n",
       "      <td id=\"T_a879d_row30_col2\" class=\"data row30 col2\" >neutral</td>\n",
       "      <td id=\"T_a879d_row30_col3\" class=\"data row30 col3\" >2971</td>\n",
       "    </tr>\n",
       "    <tr>\n",
       "      <th id=\"T_a879d_level0_row31\" class=\"row_heading level0 row31\" >31</th>\n",
       "      <td id=\"T_a879d_row31_col0\" class=\"data row31 col0\" >Instagram</td>\n",
       "      <td id=\"T_a879d_row31_col1\" class=\"data row31 col1\" >carousel</td>\n",
       "      <td id=\"T_a879d_row31_col2\" class=\"data row31 col2\" >neutral</td>\n",
       "      <td id=\"T_a879d_row31_col3\" class=\"data row31 col3\" >1959</td>\n",
       "    </tr>\n",
       "    <tr>\n",
       "      <th id=\"T_a879d_level0_row32\" class=\"row_heading level0 row32\" >32</th>\n",
       "      <td id=\"T_a879d_row32_col0\" class=\"data row32 col0\" >Twitter</td>\n",
       "      <td id=\"T_a879d_row32_col1\" class=\"data row32 col1\" >text</td>\n",
       "      <td id=\"T_a879d_row32_col2\" class=\"data row32 col2\" >negative</td>\n",
       "      <td id=\"T_a879d_row32_col3\" class=\"data row32 col3\" >1542</td>\n",
       "    </tr>\n",
       "    <tr>\n",
       "      <th id=\"T_a879d_level0_row33\" class=\"row_heading level0 row33\" >33</th>\n",
       "      <td id=\"T_a879d_row33_col0\" class=\"data row33 col0\" >Twitter</td>\n",
       "      <td id=\"T_a879d_row33_col1\" class=\"data row33 col1\" >video</td>\n",
       "      <td id=\"T_a879d_row33_col2\" class=\"data row33 col2\" >neutral</td>\n",
       "      <td id=\"T_a879d_row33_col3\" class=\"data row33 col3\" >1517</td>\n",
       "    </tr>\n",
       "    <tr>\n",
       "      <th id=\"T_a879d_level0_row34\" class=\"row_heading level0 row34\" >34</th>\n",
       "      <td id=\"T_a879d_row34_col0\" class=\"data row34 col0\" >Twitter</td>\n",
       "      <td id=\"T_a879d_row34_col1\" class=\"data row34 col1\" >image</td>\n",
       "      <td id=\"T_a879d_row34_col2\" class=\"data row34 col2\" >negative</td>\n",
       "      <td id=\"T_a879d_row34_col3\" class=\"data row34 col3\" >1460</td>\n",
       "    </tr>\n",
       "    <tr>\n",
       "      <th id=\"T_a879d_level0_row35\" class=\"row_heading level0 row35\" >35</th>\n",
       "      <td id=\"T_a879d_row35_col0\" class=\"data row35 col0\" >Facebook</td>\n",
       "      <td id=\"T_a879d_row35_col1\" class=\"data row35 col1\" >image</td>\n",
       "      <td id=\"T_a879d_row35_col2\" class=\"data row35 col2\" >negative</td>\n",
       "      <td id=\"T_a879d_row35_col3\" class=\"data row35 col3\" >1432</td>\n",
       "    </tr>\n",
       "    <tr>\n",
       "      <th id=\"T_a879d_level0_row36\" class=\"row_heading level0 row36\" >36</th>\n",
       "      <td id=\"T_a879d_row36_col0\" class=\"data row36 col0\" >Twitter</td>\n",
       "      <td id=\"T_a879d_row36_col1\" class=\"data row36 col1\" >image</td>\n",
       "      <td id=\"T_a879d_row36_col2\" class=\"data row36 col2\" >positive</td>\n",
       "      <td id=\"T_a879d_row36_col3\" class=\"data row36 col3\" >1390</td>\n",
       "    </tr>\n",
       "    <tr>\n",
       "      <th id=\"T_a879d_level0_row37\" class=\"row_heading level0 row37\" >37</th>\n",
       "      <td id=\"T_a879d_row37_col0\" class=\"data row37 col0\" >Twitter</td>\n",
       "      <td id=\"T_a879d_row37_col1\" class=\"data row37 col1\" >text</td>\n",
       "      <td id=\"T_a879d_row37_col2\" class=\"data row37 col2\" >neutral</td>\n",
       "      <td id=\"T_a879d_row37_col3\" class=\"data row37 col3\" >973</td>\n",
       "    </tr>\n",
       "    <tr>\n",
       "      <th id=\"T_a879d_level0_row38\" class=\"row_heading level0 row38\" >38</th>\n",
       "      <td id=\"T_a879d_row38_col0\" class=\"data row38 col0\" >Twitter</td>\n",
       "      <td id=\"T_a879d_row38_col1\" class=\"data row38 col1\" >poll</td>\n",
       "      <td id=\"T_a879d_row38_col2\" class=\"data row38 col2\" >neutral</td>\n",
       "      <td id=\"T_a879d_row38_col3\" class=\"data row38 col3\" >750</td>\n",
       "    </tr>\n",
       "  </tbody>\n",
       "</table>\n"
      ],
      "text/plain": [
       "<pandas.io.formats.style.Styler at 0x1ee2cc07140>"
      ]
     },
     "execution_count": 263,
     "metadata": {},
     "output_type": "execute_result"
    }
   ],
   "source": [
    "classifi_se=df.groupby([\"platform\",\"post_type\",\"sentiment_score\"])[\"total_engagement\"].sum().sort_values(ascending=False).reset_index()\n",
    "classifi_se.style.background_gradient(cmap=\"Reds\")\n"
   ]
  },
  {
   "cell_type": "code",
   "execution_count": 264,
   "id": "bf28a18b",
   "metadata": {},
   "outputs": [
    {
     "data": {
      "application/vnd.plotly.v1+json": {
       "config": {
        "plotlyServerURL": "https://plot.ly"
       },
       "data": [
        {
         "branchvalues": "total",
         "customdata": [
          [
           "Facebook"
          ],
          [
           "Facebook"
          ],
          [
           "Facebook"
          ],
          [
           "Facebook"
          ],
          [
           "Facebook"
          ],
          [
           "Facebook"
          ],
          [
           "Facebook"
          ],
          [
           "Facebook"
          ],
          [
           "Facebook"
          ],
          [
           "Facebook"
          ],
          [
           "Facebook"
          ],
          [
           "Facebook"
          ],
          [
           "Facebook"
          ],
          [
           "Facebook"
          ],
          [
           "Facebook"
          ],
          [
           "Facebook"
          ],
          [
           "Facebook"
          ],
          [
           "Facebook"
          ],
          [
           "Facebook"
          ],
          [
           "Instagram"
          ],
          [
           "Instagram"
          ],
          [
           "Instagram"
          ],
          [
           "Instagram"
          ],
          [
           "Instagram"
          ],
          [
           "Instagram"
          ],
          [
           "Instagram"
          ],
          [
           "Instagram"
          ],
          [
           "Instagram"
          ],
          [
           "Instagram"
          ],
          [
           "Instagram"
          ],
          [
           "Instagram"
          ],
          [
           "Instagram"
          ],
          [
           "Instagram"
          ],
          [
           "Instagram"
          ],
          [
           "Instagram"
          ],
          [
           "Instagram"
          ],
          [
           "Instagram"
          ],
          [
           "Instagram"
          ],
          [
           "Instagram"
          ],
          [
           "Twitter"
          ],
          [
           "Twitter"
          ],
          [
           "Twitter"
          ],
          [
           "Twitter"
          ],
          [
           "Twitter"
          ],
          [
           "Twitter"
          ],
          [
           "Twitter"
          ],
          [
           "Twitter"
          ],
          [
           "Twitter"
          ],
          [
           "Twitter"
          ],
          [
           "Twitter"
          ],
          [
           "Twitter"
          ],
          [
           "Twitter"
          ],
          [
           "Twitter"
          ],
          [
           "Twitter"
          ],
          [
           "Twitter"
          ],
          [
           "Twitter"
          ],
          [
           "Twitter"
          ]
         ],
         "domain": {
          "x": [
           0,
           1
          ],
          "y": [
           0,
           1
          ]
         },
         "hovertemplate": "labels=%{label}<br>total_engagement=%{value}<br>parent=%{parent}<br>id=%{id}<br>platform=%{customdata[0]}<extra></extra>",
         "ids": [
          "Facebook/image/positive",
          "Facebook/video/negative",
          "Facebook/poll/negative",
          "Facebook/image/negative",
          "Facebook/poll/neutral",
          "Facebook/text/positive",
          "Facebook/text/negative",
          "Facebook/text/neutral",
          "Facebook/image",
          "Facebook/carousel",
          "Facebook/video/positive",
          "Facebook/carousel/positive",
          "Facebook/video/neutral",
          "Facebook/video",
          "Facebook/poll",
          "Facebook/text",
          "Facebook",
          "Facebook/carousel/neutral",
          "Facebook/carousel/negative",
          "Instagram/poll",
          "Instagram/carousel",
          "Instagram/image",
          "Instagram/image/neutral",
          "Instagram/text",
          "Instagram/video/positive",
          "Instagram/video/neutral",
          "Instagram/video",
          "Instagram/text/negative",
          "Instagram/video/negative",
          "Instagram/carousel/negative",
          "Instagram/image/negative",
          "Instagram/poll/negative",
          "Instagram/text/positive",
          "Instagram/carousel/positive",
          "Instagram/carousel/neutral",
          "Instagram/poll/positive",
          "Instagram/image/positive",
          "Instagram",
          "Instagram/text/neutral",
          "Twitter/image/negative",
          "Twitter/video/positive",
          "Twitter/poll",
          "Twitter/text",
          "Twitter/carousel",
          "Twitter/carousel/neutral",
          "Twitter/image",
          "Twitter/video",
          "Twitter/text/positive",
          "Twitter/image/neutral",
          "Twitter/text/neutral",
          "Twitter/poll/neutral",
          "Twitter/carousel/positive",
          "Twitter/poll/positive",
          "Twitter/video/neutral",
          "Twitter/image/positive",
          "Twitter/text/negative",
          "Twitter"
         ],
         "labels": [
          "positive",
          "negative",
          "negative",
          "negative",
          "neutral",
          "positive",
          "negative",
          "neutral",
          "image",
          "carousel",
          "positive",
          "positive",
          "neutral",
          "video",
          "poll",
          "text",
          "Facebook",
          "neutral",
          "negative",
          "poll",
          "carousel",
          "image",
          "neutral",
          "text",
          "positive",
          "neutral",
          "video",
          "negative",
          "negative",
          "negative",
          "negative",
          "negative",
          "positive",
          "positive",
          "neutral",
          "positive",
          "positive",
          "Instagram",
          "neutral",
          "negative",
          "positive",
          "poll",
          "text",
          "carousel",
          "neutral",
          "image",
          "video",
          "positive",
          "neutral",
          "neutral",
          "neutral",
          "positive",
          "positive",
          "neutral",
          "positive",
          "negative",
          "Twitter"
         ],
         "marker": {
          "colors": [
           "#636efa",
           "#636efa",
           "#636efa",
           "#636efa",
           "#636efa",
           "#636efa",
           "#636efa",
           "#636efa",
           "#636efa",
           "#636efa",
           "#636efa",
           "#636efa",
           "#636efa",
           "#636efa",
           "#636efa",
           "#636efa",
           "#636efa",
           "#636efa",
           "#636efa",
           "#EF553B",
           "#EF553B",
           "#EF553B",
           "#EF553B",
           "#EF553B",
           "#EF553B",
           "#EF553B",
           "#EF553B",
           "#EF553B",
           "#EF553B",
           "#EF553B",
           "#EF553B",
           "#EF553B",
           "#EF553B",
           "#EF553B",
           "#EF553B",
           "#EF553B",
           "#EF553B",
           "#EF553B",
           "#EF553B",
           "#00cc96",
           "#00cc96",
           "#00cc96",
           "#00cc96",
           "#00cc96",
           "#00cc96",
           "#00cc96",
           "#00cc96",
           "#00cc96",
           "#00cc96",
           "#00cc96",
           "#00cc96",
           "#00cc96",
           "#00cc96",
           "#00cc96",
           "#00cc96",
           "#00cc96",
           "#00cc96"
          ]
         },
         "name": "",
         "parents": [
          "Facebook/image",
          "Facebook/video",
          "Facebook/poll",
          "Facebook/image",
          "Facebook/poll",
          "Facebook/text",
          "Facebook/text",
          "Facebook/text",
          "Facebook",
          "Facebook",
          "Facebook/video",
          "Facebook/carousel",
          "Facebook/video",
          "Facebook",
          "Facebook",
          "Facebook",
          "",
          "Facebook/carousel",
          "Facebook/carousel",
          "Instagram",
          "Instagram",
          "Instagram",
          "Instagram/image",
          "Instagram",
          "Instagram/video",
          "Instagram/video",
          "Instagram",
          "Instagram/text",
          "Instagram/video",
          "Instagram/carousel",
          "Instagram/image",
          "Instagram/poll",
          "Instagram/text",
          "Instagram/carousel",
          "Instagram/carousel",
          "Instagram/poll",
          "Instagram/image",
          "",
          "Instagram/text",
          "Twitter/image",
          "Twitter/video",
          "Twitter",
          "Twitter",
          "Twitter",
          "Twitter/carousel",
          "Twitter",
          "Twitter",
          "Twitter/text",
          "Twitter/image",
          "Twitter/text",
          "Twitter/poll",
          "Twitter/carousel",
          "Twitter/poll",
          "Twitter/video",
          "Twitter/image",
          "Twitter/text",
          ""
         ],
         "type": "sunburst",
         "values": {
          "bdata": "AAAAAACSt0AAAAAAAIC0QAAAAACAaMdAAAAAAABglkAAAAAAADanQAAAAAAAHMZAAAAAAAAxsEAAAAAAAEypQAAAAAAAKr1AAAAAAADX3kAAAAAAABTLQAAAAAAAZrtAAAAAAABO0UAAAAAAAPzhQAAAAAAANs1AAAAAAMBD0kAAAAAAEL76QAAAAAAA3bxAAAAAAEDG0EAAAAAAwFfZQAAAAADAJt1AAAAAAABw3EAAAAAAAAGzQAAAAAAA289AAAAAAAA2uEAAAAAAgBPDQAAAAACAnuBAAAAAAAD6tEAAAAAAwKXRQAAAAACAfsJAAAAAAIDIxkAAAAAAAL/CQAAAAAAAdrlAAAAAAMD90UAAAAAAAJyeQAAAAACA8M9AAAAAAACXyEAAAAAAIIMAQQAAAAAARrFAAAAAAADQlkAAAAAAgMXBQAAAAAAAdL5AAAAAAAAGx0AAAAAAAPbQQAAAAAAAnqxAAAAAAADXvUAAAAAAALzEQAAAAACAHMJAAAAAAAC1skAAAAAAAGiOQAAAAAAAcIdAAAAAAIDEykAAAAAAAIa7QAAAAAAAtJdAAAAAAAC4lUAAAAAAABiYQAAAAADg9OpA",
          "dtype": "f8"
         }
        }
       ],
       "layout": {
        "legend": {
         "tracegroupgap": 0
        },
        "template": {
         "data": {
          "bar": [
           {
            "error_x": {
             "color": "#2a3f5f"
            },
            "error_y": {
             "color": "#2a3f5f"
            },
            "marker": {
             "line": {
              "color": "#E5ECF6",
              "width": 0.5
             },
             "pattern": {
              "fillmode": "overlay",
              "size": 10,
              "solidity": 0.2
             }
            },
            "type": "bar"
           }
          ],
          "barpolar": [
           {
            "marker": {
             "line": {
              "color": "#E5ECF6",
              "width": 0.5
             },
             "pattern": {
              "fillmode": "overlay",
              "size": 10,
              "solidity": 0.2
             }
            },
            "type": "barpolar"
           }
          ],
          "carpet": [
           {
            "aaxis": {
             "endlinecolor": "#2a3f5f",
             "gridcolor": "white",
             "linecolor": "white",
             "minorgridcolor": "white",
             "startlinecolor": "#2a3f5f"
            },
            "baxis": {
             "endlinecolor": "#2a3f5f",
             "gridcolor": "white",
             "linecolor": "white",
             "minorgridcolor": "white",
             "startlinecolor": "#2a3f5f"
            },
            "type": "carpet"
           }
          ],
          "choropleth": [
           {
            "colorbar": {
             "outlinewidth": 0,
             "ticks": ""
            },
            "type": "choropleth"
           }
          ],
          "contour": [
           {
            "colorbar": {
             "outlinewidth": 0,
             "ticks": ""
            },
            "colorscale": [
             [
              0,
              "#0d0887"
             ],
             [
              0.1111111111111111,
              "#46039f"
             ],
             [
              0.2222222222222222,
              "#7201a8"
             ],
             [
              0.3333333333333333,
              "#9c179e"
             ],
             [
              0.4444444444444444,
              "#bd3786"
             ],
             [
              0.5555555555555556,
              "#d8576b"
             ],
             [
              0.6666666666666666,
              "#ed7953"
             ],
             [
              0.7777777777777778,
              "#fb9f3a"
             ],
             [
              0.8888888888888888,
              "#fdca26"
             ],
             [
              1,
              "#f0f921"
             ]
            ],
            "type": "contour"
           }
          ],
          "contourcarpet": [
           {
            "colorbar": {
             "outlinewidth": 0,
             "ticks": ""
            },
            "type": "contourcarpet"
           }
          ],
          "heatmap": [
           {
            "colorbar": {
             "outlinewidth": 0,
             "ticks": ""
            },
            "colorscale": [
             [
              0,
              "#0d0887"
             ],
             [
              0.1111111111111111,
              "#46039f"
             ],
             [
              0.2222222222222222,
              "#7201a8"
             ],
             [
              0.3333333333333333,
              "#9c179e"
             ],
             [
              0.4444444444444444,
              "#bd3786"
             ],
             [
              0.5555555555555556,
              "#d8576b"
             ],
             [
              0.6666666666666666,
              "#ed7953"
             ],
             [
              0.7777777777777778,
              "#fb9f3a"
             ],
             [
              0.8888888888888888,
              "#fdca26"
             ],
             [
              1,
              "#f0f921"
             ]
            ],
            "type": "heatmap"
           }
          ],
          "histogram": [
           {
            "marker": {
             "pattern": {
              "fillmode": "overlay",
              "size": 10,
              "solidity": 0.2
             }
            },
            "type": "histogram"
           }
          ],
          "histogram2d": [
           {
            "colorbar": {
             "outlinewidth": 0,
             "ticks": ""
            },
            "colorscale": [
             [
              0,
              "#0d0887"
             ],
             [
              0.1111111111111111,
              "#46039f"
             ],
             [
              0.2222222222222222,
              "#7201a8"
             ],
             [
              0.3333333333333333,
              "#9c179e"
             ],
             [
              0.4444444444444444,
              "#bd3786"
             ],
             [
              0.5555555555555556,
              "#d8576b"
             ],
             [
              0.6666666666666666,
              "#ed7953"
             ],
             [
              0.7777777777777778,
              "#fb9f3a"
             ],
             [
              0.8888888888888888,
              "#fdca26"
             ],
             [
              1,
              "#f0f921"
             ]
            ],
            "type": "histogram2d"
           }
          ],
          "histogram2dcontour": [
           {
            "colorbar": {
             "outlinewidth": 0,
             "ticks": ""
            },
            "colorscale": [
             [
              0,
              "#0d0887"
             ],
             [
              0.1111111111111111,
              "#46039f"
             ],
             [
              0.2222222222222222,
              "#7201a8"
             ],
             [
              0.3333333333333333,
              "#9c179e"
             ],
             [
              0.4444444444444444,
              "#bd3786"
             ],
             [
              0.5555555555555556,
              "#d8576b"
             ],
             [
              0.6666666666666666,
              "#ed7953"
             ],
             [
              0.7777777777777778,
              "#fb9f3a"
             ],
             [
              0.8888888888888888,
              "#fdca26"
             ],
             [
              1,
              "#f0f921"
             ]
            ],
            "type": "histogram2dcontour"
           }
          ],
          "mesh3d": [
           {
            "colorbar": {
             "outlinewidth": 0,
             "ticks": ""
            },
            "type": "mesh3d"
           }
          ],
          "parcoords": [
           {
            "line": {
             "colorbar": {
              "outlinewidth": 0,
              "ticks": ""
             }
            },
            "type": "parcoords"
           }
          ],
          "pie": [
           {
            "automargin": true,
            "type": "pie"
           }
          ],
          "scatter": [
           {
            "fillpattern": {
             "fillmode": "overlay",
             "size": 10,
             "solidity": 0.2
            },
            "type": "scatter"
           }
          ],
          "scatter3d": [
           {
            "line": {
             "colorbar": {
              "outlinewidth": 0,
              "ticks": ""
             }
            },
            "marker": {
             "colorbar": {
              "outlinewidth": 0,
              "ticks": ""
             }
            },
            "type": "scatter3d"
           }
          ],
          "scattercarpet": [
           {
            "marker": {
             "colorbar": {
              "outlinewidth": 0,
              "ticks": ""
             }
            },
            "type": "scattercarpet"
           }
          ],
          "scattergeo": [
           {
            "marker": {
             "colorbar": {
              "outlinewidth": 0,
              "ticks": ""
             }
            },
            "type": "scattergeo"
           }
          ],
          "scattergl": [
           {
            "marker": {
             "colorbar": {
              "outlinewidth": 0,
              "ticks": ""
             }
            },
            "type": "scattergl"
           }
          ],
          "scattermap": [
           {
            "marker": {
             "colorbar": {
              "outlinewidth": 0,
              "ticks": ""
             }
            },
            "type": "scattermap"
           }
          ],
          "scattermapbox": [
           {
            "marker": {
             "colorbar": {
              "outlinewidth": 0,
              "ticks": ""
             }
            },
            "type": "scattermapbox"
           }
          ],
          "scatterpolar": [
           {
            "marker": {
             "colorbar": {
              "outlinewidth": 0,
              "ticks": ""
             }
            },
            "type": "scatterpolar"
           }
          ],
          "scatterpolargl": [
           {
            "marker": {
             "colorbar": {
              "outlinewidth": 0,
              "ticks": ""
             }
            },
            "type": "scatterpolargl"
           }
          ],
          "scatterternary": [
           {
            "marker": {
             "colorbar": {
              "outlinewidth": 0,
              "ticks": ""
             }
            },
            "type": "scatterternary"
           }
          ],
          "surface": [
           {
            "colorbar": {
             "outlinewidth": 0,
             "ticks": ""
            },
            "colorscale": [
             [
              0,
              "#0d0887"
             ],
             [
              0.1111111111111111,
              "#46039f"
             ],
             [
              0.2222222222222222,
              "#7201a8"
             ],
             [
              0.3333333333333333,
              "#9c179e"
             ],
             [
              0.4444444444444444,
              "#bd3786"
             ],
             [
              0.5555555555555556,
              "#d8576b"
             ],
             [
              0.6666666666666666,
              "#ed7953"
             ],
             [
              0.7777777777777778,
              "#fb9f3a"
             ],
             [
              0.8888888888888888,
              "#fdca26"
             ],
             [
              1,
              "#f0f921"
             ]
            ],
            "type": "surface"
           }
          ],
          "table": [
           {
            "cells": {
             "fill": {
              "color": "#EBF0F8"
             },
             "line": {
              "color": "white"
             }
            },
            "header": {
             "fill": {
              "color": "#C8D4E3"
             },
             "line": {
              "color": "white"
             }
            },
            "type": "table"
           }
          ]
         },
         "layout": {
          "annotationdefaults": {
           "arrowcolor": "#2a3f5f",
           "arrowhead": 0,
           "arrowwidth": 1
          },
          "autotypenumbers": "strict",
          "coloraxis": {
           "colorbar": {
            "outlinewidth": 0,
            "ticks": ""
           }
          },
          "colorscale": {
           "diverging": [
            [
             0,
             "#8e0152"
            ],
            [
             0.1,
             "#c51b7d"
            ],
            [
             0.2,
             "#de77ae"
            ],
            [
             0.3,
             "#f1b6da"
            ],
            [
             0.4,
             "#fde0ef"
            ],
            [
             0.5,
             "#f7f7f7"
            ],
            [
             0.6,
             "#e6f5d0"
            ],
            [
             0.7,
             "#b8e186"
            ],
            [
             0.8,
             "#7fbc41"
            ],
            [
             0.9,
             "#4d9221"
            ],
            [
             1,
             "#276419"
            ]
           ],
           "sequential": [
            [
             0,
             "#0d0887"
            ],
            [
             0.1111111111111111,
             "#46039f"
            ],
            [
             0.2222222222222222,
             "#7201a8"
            ],
            [
             0.3333333333333333,
             "#9c179e"
            ],
            [
             0.4444444444444444,
             "#bd3786"
            ],
            [
             0.5555555555555556,
             "#d8576b"
            ],
            [
             0.6666666666666666,
             "#ed7953"
            ],
            [
             0.7777777777777778,
             "#fb9f3a"
            ],
            [
             0.8888888888888888,
             "#fdca26"
            ],
            [
             1,
             "#f0f921"
            ]
           ],
           "sequentialminus": [
            [
             0,
             "#0d0887"
            ],
            [
             0.1111111111111111,
             "#46039f"
            ],
            [
             0.2222222222222222,
             "#7201a8"
            ],
            [
             0.3333333333333333,
             "#9c179e"
            ],
            [
             0.4444444444444444,
             "#bd3786"
            ],
            [
             0.5555555555555556,
             "#d8576b"
            ],
            [
             0.6666666666666666,
             "#ed7953"
            ],
            [
             0.7777777777777778,
             "#fb9f3a"
            ],
            [
             0.8888888888888888,
             "#fdca26"
            ],
            [
             1,
             "#f0f921"
            ]
           ]
          },
          "colorway": [
           "#636efa",
           "#EF553B",
           "#00cc96",
           "#ab63fa",
           "#FFA15A",
           "#19d3f3",
           "#FF6692",
           "#B6E880",
           "#FF97FF",
           "#FECB52"
          ],
          "font": {
           "color": "#2a3f5f"
          },
          "geo": {
           "bgcolor": "white",
           "lakecolor": "white",
           "landcolor": "#E5ECF6",
           "showlakes": true,
           "showland": true,
           "subunitcolor": "white"
          },
          "hoverlabel": {
           "align": "left"
          },
          "hovermode": "closest",
          "mapbox": {
           "style": "light"
          },
          "paper_bgcolor": "white",
          "plot_bgcolor": "#E5ECF6",
          "polar": {
           "angularaxis": {
            "gridcolor": "white",
            "linecolor": "white",
            "ticks": ""
           },
           "bgcolor": "#E5ECF6",
           "radialaxis": {
            "gridcolor": "white",
            "linecolor": "white",
            "ticks": ""
           }
          },
          "scene": {
           "xaxis": {
            "backgroundcolor": "#E5ECF6",
            "gridcolor": "white",
            "gridwidth": 2,
            "linecolor": "white",
            "showbackground": true,
            "ticks": "",
            "zerolinecolor": "white"
           },
           "yaxis": {
            "backgroundcolor": "#E5ECF6",
            "gridcolor": "white",
            "gridwidth": 2,
            "linecolor": "white",
            "showbackground": true,
            "ticks": "",
            "zerolinecolor": "white"
           },
           "zaxis": {
            "backgroundcolor": "#E5ECF6",
            "gridcolor": "white",
            "gridwidth": 2,
            "linecolor": "white",
            "showbackground": true,
            "ticks": "",
            "zerolinecolor": "white"
           }
          },
          "shapedefaults": {
           "line": {
            "color": "#2a3f5f"
           }
          },
          "ternary": {
           "aaxis": {
            "gridcolor": "white",
            "linecolor": "white",
            "ticks": ""
           },
           "baxis": {
            "gridcolor": "white",
            "linecolor": "white",
            "ticks": ""
           },
           "bgcolor": "#E5ECF6",
           "caxis": {
            "gridcolor": "white",
            "linecolor": "white",
            "ticks": ""
           }
          },
          "title": {
           "x": 0.05
          },
          "xaxis": {
           "automargin": true,
           "gridcolor": "white",
           "linecolor": "white",
           "ticks": "",
           "title": {
            "standoff": 15
           },
           "zerolinecolor": "white",
           "zerolinewidth": 2
          },
          "yaxis": {
           "automargin": true,
           "gridcolor": "white",
           "linecolor": "white",
           "ticks": "",
           "title": {
            "standoff": 15
           },
           "zerolinecolor": "white",
           "zerolinewidth": 2
          }
         }
        },
        "title": {
         "text": "Engagement Breakdown by Platform, Post Type, and Sentiment"
        }
       }
      }
     },
     "metadata": {},
     "output_type": "display_data"
    }
   ],
   "source": [
    "import plotly.express as px\n",
    "\n",
    "fig = px.sunburst(df,\n",
    "                  path=['platform', 'post_type', 'sentiment_score'],\n",
    "                  values='total_engagement',\n",
    "                  title='Engagement Breakdown by Platform, Post Type, and Sentiment',\n",
    "                  color='platform')\n",
    "fig.show()\n"
   ]
  },
  {
   "cell_type": "markdown",
   "id": "9cf08305",
   "metadata": {},
   "source": [
    "## Alternative Visualization For Better Understanding"
   ]
  },
  {
   "cell_type": "code",
   "execution_count": 266,
   "id": "f12b9655",
   "metadata": {},
   "outputs": [
    {
     "data": {
      "application/vnd.plotly.v1+json": {
       "config": {
        "plotlyServerURL": "https://plot.ly"
       },
       "data": [
        {
         "alignmentgroup": "True",
         "customdata": [
          [
           "positive"
          ],
          [
           "negative"
          ],
          [
           "positive"
          ],
          [
           "neutral"
          ],
          [
           "positive"
          ],
          [
           "negative"
          ],
          [
           "positive"
          ],
          [
           "negative"
          ],
          [
           "neutral"
          ],
          [
           "positive"
          ],
          [
           "negative"
          ],
          [
           "negative"
          ],
          [
           "neutral"
          ],
          [
           "positive"
          ],
          [
           "neutral"
          ],
          [
           "positive"
          ],
          [
           "neutral"
          ]
         ],
         "hovertemplate": "post_type=image<br>platform=%{x}<br>total_engagement=%{y}<br>sentiment_score=%{customdata[0]}<extra></extra>",
         "legendgroup": "image",
         "marker": {
          "color": "#636efa",
          "pattern": {
           "shape": ""
          }
         },
         "name": "image",
         "offsetgroup": "image",
         "orientation": "v",
         "showlegend": true,
         "textposition": "auto",
         "type": "bar",
         "x": [
          "Facebook",
          "Twitter",
          "Instagram",
          "Twitter",
          "Facebook",
          "Facebook",
          "Instagram",
          "Instagram",
          "Twitter",
          "Twitter",
          "Instagram",
          "Instagram",
          "Twitter",
          "Instagram",
          "Twitter",
          "Facebook",
          "Instagram"
         ],
         "xaxis": "x",
         "y": {
          "bdata": "lwy0BWYL2AlsApgFuhM6CagEbgVqFe0OBQIOEjACjwgBEw==",
          "dtype": "i2"
         },
         "yaxis": "y"
        },
        {
         "alignmentgroup": "True",
         "customdata": [
          [
           "neutral"
          ],
          [
           "neutral"
          ],
          [
           "neutral"
          ],
          [
           "negative"
          ],
          [
           "positive"
          ],
          [
           "positive"
          ],
          [
           "positive"
          ],
          [
           "negative"
          ],
          [
           "positive"
          ],
          [
           "negative"
          ],
          [
           "positive"
          ],
          [
           "positive"
          ],
          [
           "neutral"
          ],
          [
           "positive"
          ],
          [
           "negative"
          ],
          [
           "neutral"
          ],
          [
           "negative"
          ],
          [
           "neutral"
          ],
          [
           "positive"
          ],
          [
           "positive"
          ],
          [
           "negative"
          ],
          [
           "negative"
          ],
          [
           "positive"
          ],
          [
           "negative"
          ],
          [
           "negative"
          ],
          [
           "positive"
          ]
         ],
         "hovertemplate": "post_type=carousel<br>platform=%{x}<br>total_engagement=%{y}<br>sentiment_score=%{customdata[0]}<extra></extra>",
         "legendgroup": "carousel",
         "marker": {
          "color": "#EF553B",
          "pattern": {
           "shape": ""
          }
         },
         "name": "carousel",
         "offsetgroup": "carousel",
         "orientation": "v",
         "showlegend": true,
         "textposition": "auto",
         "type": "bar",
         "x": [
          "Facebook",
          "Instagram",
          "Twitter",
          "Facebook",
          "Facebook",
          "Twitter",
          "Instagram",
          "Facebook",
          "Facebook",
          "Instagram",
          "Twitter",
          "Twitter",
          "Twitter",
          "Instagram",
          "Facebook",
          "Instagram",
          "Facebook",
          "Facebook",
          "Twitter",
          "Instagram",
          "Instagram",
          "Facebook",
          "Twitter",
          "Facebook",
          "Instagram",
          "Instagram"
         ],
         "xaxis": "x",
         "y": {
          "bdata": "shKNAu0J8gG5BYwJZxURCq0VWQYYBdAKYgSjF9ISGgUVCisKuQ4UFl8WWwdcDdQSRQjZBA==",
          "dtype": "i2"
         },
         "yaxis": "y"
        },
        {
         "alignmentgroup": "True",
         "customdata": [
          [
           "negative"
          ],
          [
           "positive"
          ],
          [
           "neutral"
          ],
          [
           "positive"
          ],
          [
           "neutral"
          ],
          [
           "negative"
          ],
          [
           "positive"
          ],
          [
           "positive"
          ],
          [
           "negative"
          ],
          [
           "positive"
          ],
          [
           "negative"
          ],
          [
           "positive"
          ],
          [
           "positive"
          ]
         ],
         "hovertemplate": "post_type=poll<br>platform=%{x}<br>total_engagement=%{y}<br>sentiment_score=%{customdata[0]}<extra></extra>",
         "legendgroup": "poll",
         "marker": {
          "color": "#00cc96",
          "pattern": {
           "shape": ""
          }
         },
         "name": "poll",
         "offsetgroup": "poll",
         "orientation": "v",
         "showlegend": true,
         "textposition": "auto",
         "type": "bar",
         "x": [
          "Instagram",
          "Instagram",
          "Twitter",
          "Twitter",
          "Facebook",
          "Facebook",
          "Twitter",
          "Twitter",
          "Facebook",
          "Instagram",
          "Instagram",
          "Instagram",
          "Instagram"
         ],
         "xaxis": "x",
         "y": {
          "bdata": "oxciDu4C5AWbC04YiwkXDIMWOQ3bDT4OSBY=",
          "dtype": "i2"
         },
         "yaxis": "y"
        },
        {
         "alignmentgroup": "True",
         "customdata": [
          [
           "positive"
          ],
          [
           "neutral"
          ],
          [
           "positive"
          ],
          [
           "positive"
          ],
          [
           "positive"
          ],
          [
           "neutral"
          ],
          [
           "neutral"
          ],
          [
           "negative"
          ],
          [
           "positive"
          ],
          [
           "negative"
          ],
          [
           "positive"
          ],
          [
           "neutral"
          ],
          [
           "neutral"
          ],
          [
           "neutral"
          ],
          [
           "negative"
          ],
          [
           "negative"
          ],
          [
           "neutral"
          ],
          [
           "positive"
          ],
          [
           "positive"
          ],
          [
           "neutral"
          ],
          [
           "negative"
          ],
          [
           "positive"
          ],
          [
           "neutral"
          ]
         ],
         "hovertemplate": "post_type=video<br>platform=%{x}<br>total_engagement=%{y}<br>sentiment_score=%{customdata[0]}<extra></extra>",
         "legendgroup": "video",
         "marker": {
          "color": "#ab63fa",
          "pattern": {
           "shape": ""
          }
         },
         "name": "video",
         "offsetgroup": "video",
         "orientation": "v",
         "showlegend": true,
         "textposition": "auto",
         "type": "bar",
         "x": [
          "Twitter",
          "Facebook",
          "Twitter",
          "Twitter",
          "Facebook",
          "Facebook",
          "Facebook",
          "Instagram",
          "Twitter",
          "Facebook",
          "Twitter",
          "Instagram",
          "Facebook",
          "Twitter",
          "Instagram",
          "Instagram",
          "Instagram",
          "Instagram",
          "Facebook",
          "Facebook",
          "Instagram",
          "Facebook",
          "Twitter"
         ],
         "xaxis": "x",
         "y": {
          "bdata": "wA8TA7MB+gGnFSMRChkXF7YJgBRoBmYV6At9AngRuwbBEDYYEBcQDE0XcQlwAw==",
          "dtype": "i2"
         },
         "yaxis": "y"
        },
        {
         "alignmentgroup": "True",
         "customdata": [
          [
           "neutral"
          ],
          [
           "negative"
          ],
          [
           "positive"
          ],
          [
           "neutral"
          ],
          [
           "positive"
          ],
          [
           "positive"
          ],
          [
           "positive"
          ],
          [
           "negative"
          ],
          [
           "positive"
          ],
          [
           "negative"
          ],
          [
           "positive"
          ],
          [
           "positive"
          ],
          [
           "negative"
          ],
          [
           "positive"
          ],
          [
           "neutral"
          ],
          [
           "positive"
          ],
          [
           "neutral"
          ],
          [
           "positive"
          ],
          [
           "neutral"
          ],
          [
           "positive"
          ],
          [
           "positive"
          ]
         ],
         "hovertemplate": "post_type=text<br>platform=%{x}<br>total_engagement=%{y}<br>sentiment_score=%{customdata[0]}<extra></extra>",
         "legendgroup": "text",
         "marker": {
          "color": "#FFA15A",
          "pattern": {
           "shape": ""
          }
         },
         "name": "text",
         "offsetgroup": "text",
         "orientation": "v",
         "showlegend": true,
         "textposition": "auto",
         "type": "bar",
         "x": [
          "Instagram",
          "Twitter",
          "Twitter",
          "Twitter",
          "Twitter",
          "Twitter",
          "Instagram",
          "Instagram",
          "Instagram",
          "Instagram",
          "Twitter",
          "Facebook",
          "Facebook",
          "Facebook",
          "Instagram",
          "Facebook",
          "Facebook",
          "Twitter",
          "Instagram",
          "Facebook",
          "Twitter"
         ],
         "xaxis": "x",
         "y": {
          "bdata": "/wUGBkAGzQMOCRUDhA2eDfILXAc4Bj4KMRDWDiwJoQSmDOAJGwKDDr4B",
          "dtype": "i2"
         },
         "yaxis": "y"
        }
       ],
       "layout": {
        "barmode": "group",
        "legend": {
         "title": {
          "text": "post_type"
         },
         "tracegroupgap": 0
        },
        "template": {
         "data": {
          "bar": [
           {
            "error_x": {
             "color": "#2a3f5f"
            },
            "error_y": {
             "color": "#2a3f5f"
            },
            "marker": {
             "line": {
              "color": "#E5ECF6",
              "width": 0.5
             },
             "pattern": {
              "fillmode": "overlay",
              "size": 10,
              "solidity": 0.2
             }
            },
            "type": "bar"
           }
          ],
          "barpolar": [
           {
            "marker": {
             "line": {
              "color": "#E5ECF6",
              "width": 0.5
             },
             "pattern": {
              "fillmode": "overlay",
              "size": 10,
              "solidity": 0.2
             }
            },
            "type": "barpolar"
           }
          ],
          "carpet": [
           {
            "aaxis": {
             "endlinecolor": "#2a3f5f",
             "gridcolor": "white",
             "linecolor": "white",
             "minorgridcolor": "white",
             "startlinecolor": "#2a3f5f"
            },
            "baxis": {
             "endlinecolor": "#2a3f5f",
             "gridcolor": "white",
             "linecolor": "white",
             "minorgridcolor": "white",
             "startlinecolor": "#2a3f5f"
            },
            "type": "carpet"
           }
          ],
          "choropleth": [
           {
            "colorbar": {
             "outlinewidth": 0,
             "ticks": ""
            },
            "type": "choropleth"
           }
          ],
          "contour": [
           {
            "colorbar": {
             "outlinewidth": 0,
             "ticks": ""
            },
            "colorscale": [
             [
              0,
              "#0d0887"
             ],
             [
              0.1111111111111111,
              "#46039f"
             ],
             [
              0.2222222222222222,
              "#7201a8"
             ],
             [
              0.3333333333333333,
              "#9c179e"
             ],
             [
              0.4444444444444444,
              "#bd3786"
             ],
             [
              0.5555555555555556,
              "#d8576b"
             ],
             [
              0.6666666666666666,
              "#ed7953"
             ],
             [
              0.7777777777777778,
              "#fb9f3a"
             ],
             [
              0.8888888888888888,
              "#fdca26"
             ],
             [
              1,
              "#f0f921"
             ]
            ],
            "type": "contour"
           }
          ],
          "contourcarpet": [
           {
            "colorbar": {
             "outlinewidth": 0,
             "ticks": ""
            },
            "type": "contourcarpet"
           }
          ],
          "heatmap": [
           {
            "colorbar": {
             "outlinewidth": 0,
             "ticks": ""
            },
            "colorscale": [
             [
              0,
              "#0d0887"
             ],
             [
              0.1111111111111111,
              "#46039f"
             ],
             [
              0.2222222222222222,
              "#7201a8"
             ],
             [
              0.3333333333333333,
              "#9c179e"
             ],
             [
              0.4444444444444444,
              "#bd3786"
             ],
             [
              0.5555555555555556,
              "#d8576b"
             ],
             [
              0.6666666666666666,
              "#ed7953"
             ],
             [
              0.7777777777777778,
              "#fb9f3a"
             ],
             [
              0.8888888888888888,
              "#fdca26"
             ],
             [
              1,
              "#f0f921"
             ]
            ],
            "type": "heatmap"
           }
          ],
          "histogram": [
           {
            "marker": {
             "pattern": {
              "fillmode": "overlay",
              "size": 10,
              "solidity": 0.2
             }
            },
            "type": "histogram"
           }
          ],
          "histogram2d": [
           {
            "colorbar": {
             "outlinewidth": 0,
             "ticks": ""
            },
            "colorscale": [
             [
              0,
              "#0d0887"
             ],
             [
              0.1111111111111111,
              "#46039f"
             ],
             [
              0.2222222222222222,
              "#7201a8"
             ],
             [
              0.3333333333333333,
              "#9c179e"
             ],
             [
              0.4444444444444444,
              "#bd3786"
             ],
             [
              0.5555555555555556,
              "#d8576b"
             ],
             [
              0.6666666666666666,
              "#ed7953"
             ],
             [
              0.7777777777777778,
              "#fb9f3a"
             ],
             [
              0.8888888888888888,
              "#fdca26"
             ],
             [
              1,
              "#f0f921"
             ]
            ],
            "type": "histogram2d"
           }
          ],
          "histogram2dcontour": [
           {
            "colorbar": {
             "outlinewidth": 0,
             "ticks": ""
            },
            "colorscale": [
             [
              0,
              "#0d0887"
             ],
             [
              0.1111111111111111,
              "#46039f"
             ],
             [
              0.2222222222222222,
              "#7201a8"
             ],
             [
              0.3333333333333333,
              "#9c179e"
             ],
             [
              0.4444444444444444,
              "#bd3786"
             ],
             [
              0.5555555555555556,
              "#d8576b"
             ],
             [
              0.6666666666666666,
              "#ed7953"
             ],
             [
              0.7777777777777778,
              "#fb9f3a"
             ],
             [
              0.8888888888888888,
              "#fdca26"
             ],
             [
              1,
              "#f0f921"
             ]
            ],
            "type": "histogram2dcontour"
           }
          ],
          "mesh3d": [
           {
            "colorbar": {
             "outlinewidth": 0,
             "ticks": ""
            },
            "type": "mesh3d"
           }
          ],
          "parcoords": [
           {
            "line": {
             "colorbar": {
              "outlinewidth": 0,
              "ticks": ""
             }
            },
            "type": "parcoords"
           }
          ],
          "pie": [
           {
            "automargin": true,
            "type": "pie"
           }
          ],
          "scatter": [
           {
            "fillpattern": {
             "fillmode": "overlay",
             "size": 10,
             "solidity": 0.2
            },
            "type": "scatter"
           }
          ],
          "scatter3d": [
           {
            "line": {
             "colorbar": {
              "outlinewidth": 0,
              "ticks": ""
             }
            },
            "marker": {
             "colorbar": {
              "outlinewidth": 0,
              "ticks": ""
             }
            },
            "type": "scatter3d"
           }
          ],
          "scattercarpet": [
           {
            "marker": {
             "colorbar": {
              "outlinewidth": 0,
              "ticks": ""
             }
            },
            "type": "scattercarpet"
           }
          ],
          "scattergeo": [
           {
            "marker": {
             "colorbar": {
              "outlinewidth": 0,
              "ticks": ""
             }
            },
            "type": "scattergeo"
           }
          ],
          "scattergl": [
           {
            "marker": {
             "colorbar": {
              "outlinewidth": 0,
              "ticks": ""
             }
            },
            "type": "scattergl"
           }
          ],
          "scattermap": [
           {
            "marker": {
             "colorbar": {
              "outlinewidth": 0,
              "ticks": ""
             }
            },
            "type": "scattermap"
           }
          ],
          "scattermapbox": [
           {
            "marker": {
             "colorbar": {
              "outlinewidth": 0,
              "ticks": ""
             }
            },
            "type": "scattermapbox"
           }
          ],
          "scatterpolar": [
           {
            "marker": {
             "colorbar": {
              "outlinewidth": 0,
              "ticks": ""
             }
            },
            "type": "scatterpolar"
           }
          ],
          "scatterpolargl": [
           {
            "marker": {
             "colorbar": {
              "outlinewidth": 0,
              "ticks": ""
             }
            },
            "type": "scatterpolargl"
           }
          ],
          "scatterternary": [
           {
            "marker": {
             "colorbar": {
              "outlinewidth": 0,
              "ticks": ""
             }
            },
            "type": "scatterternary"
           }
          ],
          "surface": [
           {
            "colorbar": {
             "outlinewidth": 0,
             "ticks": ""
            },
            "colorscale": [
             [
              0,
              "#0d0887"
             ],
             [
              0.1111111111111111,
              "#46039f"
             ],
             [
              0.2222222222222222,
              "#7201a8"
             ],
             [
              0.3333333333333333,
              "#9c179e"
             ],
             [
              0.4444444444444444,
              "#bd3786"
             ],
             [
              0.5555555555555556,
              "#d8576b"
             ],
             [
              0.6666666666666666,
              "#ed7953"
             ],
             [
              0.7777777777777778,
              "#fb9f3a"
             ],
             [
              0.8888888888888888,
              "#fdca26"
             ],
             [
              1,
              "#f0f921"
             ]
            ],
            "type": "surface"
           }
          ],
          "table": [
           {
            "cells": {
             "fill": {
              "color": "#EBF0F8"
             },
             "line": {
              "color": "white"
             }
            },
            "header": {
             "fill": {
              "color": "#C8D4E3"
             },
             "line": {
              "color": "white"
             }
            },
            "type": "table"
           }
          ]
         },
         "layout": {
          "annotationdefaults": {
           "arrowcolor": "#2a3f5f",
           "arrowhead": 0,
           "arrowwidth": 1
          },
          "autotypenumbers": "strict",
          "coloraxis": {
           "colorbar": {
            "outlinewidth": 0,
            "ticks": ""
           }
          },
          "colorscale": {
           "diverging": [
            [
             0,
             "#8e0152"
            ],
            [
             0.1,
             "#c51b7d"
            ],
            [
             0.2,
             "#de77ae"
            ],
            [
             0.3,
             "#f1b6da"
            ],
            [
             0.4,
             "#fde0ef"
            ],
            [
             0.5,
             "#f7f7f7"
            ],
            [
             0.6,
             "#e6f5d0"
            ],
            [
             0.7,
             "#b8e186"
            ],
            [
             0.8,
             "#7fbc41"
            ],
            [
             0.9,
             "#4d9221"
            ],
            [
             1,
             "#276419"
            ]
           ],
           "sequential": [
            [
             0,
             "#0d0887"
            ],
            [
             0.1111111111111111,
             "#46039f"
            ],
            [
             0.2222222222222222,
             "#7201a8"
            ],
            [
             0.3333333333333333,
             "#9c179e"
            ],
            [
             0.4444444444444444,
             "#bd3786"
            ],
            [
             0.5555555555555556,
             "#d8576b"
            ],
            [
             0.6666666666666666,
             "#ed7953"
            ],
            [
             0.7777777777777778,
             "#fb9f3a"
            ],
            [
             0.8888888888888888,
             "#fdca26"
            ],
            [
             1,
             "#f0f921"
            ]
           ],
           "sequentialminus": [
            [
             0,
             "#0d0887"
            ],
            [
             0.1111111111111111,
             "#46039f"
            ],
            [
             0.2222222222222222,
             "#7201a8"
            ],
            [
             0.3333333333333333,
             "#9c179e"
            ],
            [
             0.4444444444444444,
             "#bd3786"
            ],
            [
             0.5555555555555556,
             "#d8576b"
            ],
            [
             0.6666666666666666,
             "#ed7953"
            ],
            [
             0.7777777777777778,
             "#fb9f3a"
            ],
            [
             0.8888888888888888,
             "#fdca26"
            ],
            [
             1,
             "#f0f921"
            ]
           ]
          },
          "colorway": [
           "#636efa",
           "#EF553B",
           "#00cc96",
           "#ab63fa",
           "#FFA15A",
           "#19d3f3",
           "#FF6692",
           "#B6E880",
           "#FF97FF",
           "#FECB52"
          ],
          "font": {
           "color": "#2a3f5f"
          },
          "geo": {
           "bgcolor": "white",
           "lakecolor": "white",
           "landcolor": "#E5ECF6",
           "showlakes": true,
           "showland": true,
           "subunitcolor": "white"
          },
          "hoverlabel": {
           "align": "left"
          },
          "hovermode": "closest",
          "mapbox": {
           "style": "light"
          },
          "paper_bgcolor": "white",
          "plot_bgcolor": "#E5ECF6",
          "polar": {
           "angularaxis": {
            "gridcolor": "white",
            "linecolor": "white",
            "ticks": ""
           },
           "bgcolor": "#E5ECF6",
           "radialaxis": {
            "gridcolor": "white",
            "linecolor": "white",
            "ticks": ""
           }
          },
          "scene": {
           "xaxis": {
            "backgroundcolor": "#E5ECF6",
            "gridcolor": "white",
            "gridwidth": 2,
            "linecolor": "white",
            "showbackground": true,
            "ticks": "",
            "zerolinecolor": "white"
           },
           "yaxis": {
            "backgroundcolor": "#E5ECF6",
            "gridcolor": "white",
            "gridwidth": 2,
            "linecolor": "white",
            "showbackground": true,
            "ticks": "",
            "zerolinecolor": "white"
           },
           "zaxis": {
            "backgroundcolor": "#E5ECF6",
            "gridcolor": "white",
            "gridwidth": 2,
            "linecolor": "white",
            "showbackground": true,
            "ticks": "",
            "zerolinecolor": "white"
           }
          },
          "shapedefaults": {
           "line": {
            "color": "#2a3f5f"
           }
          },
          "ternary": {
           "aaxis": {
            "gridcolor": "white",
            "linecolor": "white",
            "ticks": ""
           },
           "baxis": {
            "gridcolor": "white",
            "linecolor": "white",
            "ticks": ""
           },
           "bgcolor": "#E5ECF6",
           "caxis": {
            "gridcolor": "white",
            "linecolor": "white",
            "ticks": ""
           }
          },
          "title": {
           "x": 0.05
          },
          "xaxis": {
           "automargin": true,
           "gridcolor": "white",
           "linecolor": "white",
           "ticks": "",
           "title": {
            "standoff": 15
           },
           "zerolinecolor": "white",
           "zerolinewidth": 2
          },
          "yaxis": {
           "automargin": true,
           "gridcolor": "white",
           "linecolor": "white",
           "ticks": "",
           "title": {
            "standoff": 15
           },
           "zerolinecolor": "white",
           "zerolinewidth": 2
          }
         }
        },
        "title": {
         "text": "Total Engagement by Platform and Post Type"
        },
        "xaxis": {
         "anchor": "y",
         "domain": [
          0,
          1
         ],
         "title": {
          "text": "platform"
         }
        },
        "yaxis": {
         "anchor": "x",
         "domain": [
          0,
          1
         ],
         "title": {
          "text": "total_engagement"
         }
        }
       }
      }
     },
     "metadata": {},
     "output_type": "display_data"
    }
   ],
   "source": [
    "fig = px.bar(df,\n",
    "             x='platform',\n",
    "             y='total_engagement',\n",
    "             color='post_type',\n",
    "             barmode='group',\n",
    "             title='Total Engagement by Platform and Post Type',\n",
    "             hover_data=['sentiment_score'])\n",
    "fig.show()\n"
   ]
  }
 ],
 "metadata": {
  "kernelspec": {
   "display_name": "Python 3",
   "language": "python",
   "name": "python3"
  },
  "language_info": {
   "codemirror_mode": {
    "name": "ipython",
    "version": 3
   },
   "file_extension": ".py",
   "mimetype": "text/x-python",
   "name": "python",
   "nbconvert_exporter": "python",
   "pygments_lexer": "ipython3",
   "version": "3.12.4"
  }
 },
 "nbformat": 4,
 "nbformat_minor": 5
}
